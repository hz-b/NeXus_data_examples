{
 "cells": [
  {
   "cell_type": "markdown",
   "id": "a2b7faf5-dd75-4f28-9f41-4eb812ee9127",
   "metadata": {},
   "source": [
    "<img src=\"ICALPECS_2025_logo.png\">"
   ]
  },
  {
   "cell_type": "markdown",
   "id": "c3906731-d471-4e1d-a66b-4e01a550d74b",
   "metadata": {},
   "source": [
    "# Convert myspot multimodal experiment data in to NeXus standand format\n",
    "\n",
    "- Step 1: Store measurement at each point over the sample into 3D NXdata --> 1 hdf per ET (here, NXfluo and NXxrd)\n",
    "- Step 2: Prepare JSON configuration file\n",
    "- Step 3: Make use of ELN to capture metadata not acquired during measurement\n",
    "- Step 4: Run converter\n",
    "- Step 5: Visualize"
   ]
  },
  {
   "cell_type": "markdown",
   "id": "3eeb6054-38d7-417a-be44-b73939acc653",
   "metadata": {},
   "source": [
    "# Step 1: One file with NXdata per ET\n",
    "\n",
    "The current example, as discussed in the paper, contains 710 files for each experiment technique (ET). Hence, to avoid uploading a large number of files, we directly provide two HDF5 files, one for each ET, to demonstrate the usage of pynxtools. \n",
    "\n",
    "### Two HDF5 files:\n",
    "- For fluorescence data: myspot_multimodal_fluo_2025-08-28.nxs\n",
    "\n",
    "- For differaction data: amyspot_multimodal_xrd_2025-08-14.nxs\n",
    "\n",
    "The snippet of code used to convert MySpot fluorescence data is given at the end of this notebook.\n"
   ]
  },
  {
   "cell_type": "markdown",
   "id": "95d409a9-c63c-47ac-a71f-4327ef638df4",
   "metadata": {},
   "source": [
    "# Step 2: Prepare JSON configuration file"
   ]
  },
  {
   "cell_type": "code",
   "execution_count": 5,
   "id": "9455414c-8281-42cc-ab78-b24d7e4e14b8",
   "metadata": {},
   "outputs": [
    {
     "name": "stdout",
     "output_type": "stream",
     "text": [
      "{'/@default': 'entry',\n",
      " '/ENTRY[entry]/@default': 'data',\n",
      " '/ENTRY[entry]/DATA[data]/@axes': ['y', 'x', 'energy'],\n",
      " '/ENTRY[entry]/DATA[data]/@signal': 'data',\n",
      " '/ENTRY[entry]/DATA[data]/data': {'link': '/entry/instrument/fluorescence/data'},\n",
      " '/ENTRY[entry]/DATA[data]/energy': {'link': '/entry/instrument/fluorescence/energy'},\n",
      " '/ENTRY[entry]/DATA[data]/energy/@units': 'eV',\n",
      " '/ENTRY[entry]/DATA[data]/x': {'link': '/entry/sample/x'},\n",
      " '/ENTRY[entry]/DATA[data]/y': {'link': '/entry/sample/y'},\n",
      " '/ENTRY[entry]/INSTRUMENT[instrument]/SOURCE[source]/name': 'BESSY II',\n",
      " '/ENTRY[entry]/INSTRUMENT[instrument]/SOURCE[source]/probe': 'x-ray',\n",
      " '/ENTRY[entry]/INSTRUMENT[instrument]/SOURCE[source]/type': 'Synchrotron '\n",
      "                                                             'X-ray Source',\n",
      " '/ENTRY[entry]/INSTRUMENT[instrument]/fluorescence/data': '/entry_NXfluo/instrument/fluorescence/data',\n",
      " '/ENTRY[entry]/INSTRUMENT[instrument]/fluorescence/energy': '/entry_NXfluo/instrument/fluorescence/energy',\n",
      " '/ENTRY[entry]/INSTRUMENT[instrument]/monochromator/wavelength': 1.0,\n",
      " '/ENTRY[entry]/INSTRUMENT[instrument]/monochromator/wavelength/@units': 'angstrom',\n",
      " '/ENTRY[entry]/MONITOR[monitor]/data': [1, 2, 3],\n",
      " '/ENTRY[entry]/MONITOR[monitor]/mode': 'monitor',\n",
      " '/ENTRY[entry]/MONITOR[monitor]/preset': '/entry_2022-09-30_scans_00003_00000/instrument/mca_0/preset_time',\n",
      " '/ENTRY[entry]/SAMPLE[sample]/name': 'My wonderful sample',\n",
      " '/ENTRY[entry]/SAMPLE[sample]/x': '/entry_NXfluo/sample/x',\n",
      " '/ENTRY[entry]/SAMPLE[sample]/y': '/entry_NXfluo/sample/y',\n",
      " '/ENTRY[entry]/USER[user]/email': '/user/email',\n",
      " '/ENTRY[entry]/USER[user]/name': '/user/name',\n",
      " '/ENTRY[entry]/definition': 'NXfluo',\n",
      " '/ENTRY[entry]/start_time': '2022-01-22T12:14:12.05018+00:00',\n",
      " '/ENTRY[entry]/title': '/entry_2022-09-30_scans_00003_00000/title'}\n"
     ]
    }
   ],
   "source": [
    "import json\n",
    "from pprint import pprint\n",
    "\n",
    "with open('myspot_fluo.mapping_icalepcs2025.json') as json_data:\n",
    "    d = json.load(json_data)\n",
    "    json_data.close()\n",
    "    pprint(d)"
   ]
  },
  {
   "cell_type": "markdown",
   "id": "1a86ca62-592a-4d58-98f7-942c4fde2fe4",
   "metadata": {},
   "source": [
    "# Step 3: Use ELN to capture metadata not acquired during measurement"
   ]
  },
  {
   "cell_type": "code",
   "execution_count": 6,
   "id": "918f9b9f-1991-4031-aba9-0db9489e5ce4",
   "metadata": {},
   "outputs": [
    {
     "name": "stdout",
     "output_type": "stream",
     "text": [
      "{'process': {'note': {'description': 'This program does the azimuthal '\n",
      "                                     'integration of the data acquired at '\n",
      "                                     'myspot'},\n",
      "             'program': 'bluesky_v0.1.1'},\n",
      " 'sample': {'name': 'My Wonderful Sample'},\n",
      " 'user': {'email': 'sonal.patel@helmholtz-berlin.de', 'name': 'Sonal'}}\n"
     ]
    }
   ],
   "source": [
    "import yaml\n",
    "import pprint\n",
    "\n",
    "with open(\"eln_data_xrd.yaml\") as stream:\n",
    "    try:\n",
    "        pprint.pprint(yaml.safe_load(stream))\n",
    "    except yaml.YAMLError as exc:\n",
    "        pprint.pprint(exc)\n"
   ]
  },
  {
   "cell_type": "markdown",
   "id": "b42b1ccf-906e-4976-bafb-3f3c328837d8",
   "metadata": {},
   "source": [
    "# Step 4: Run the converter\n",
    "\n",
    "To convert the available files to the NeXus format we use the convert function readily supplied by pynxtools. It uses the downloaded measurement file, a json config file and optionally an electronic lab notebook (ELN) yaml is used to collect the (meta)data not capture during experiment. The json config file maps specific metadata from the HDF5 measurement file to the nxs file, i.e. a pressure reading which automatically gets collected during measurement. The ELN is a file which supplies additional metadata which is written into the NeXus file. This is data which is not collected automatically, such as the person conducting the experiment. It can be written manually or generated, e.g. by the NOMAD ELN functionality.\n",
    "\n",
    "The convert command may also be executed in the command line with the command dataconverter:\n",
    "\n",
    "```\n",
    "dataconverter \\\n",
    "    --reader json_map \\\n",
    "    --nxdl NXbessy \\\n",
    "    --input-file myspot_multimodal_xrd.mapping.json \\\n",
    "    --input-file eln_data.yaml \\\n",
    "    --output myspot_multimodal.nxs \n",
    "```"
   ]
  },
  {
   "cell_type": "code",
   "execution_count": 7,
   "id": "5cd1d459-0e53-40e4-bc09-6ca0c4b5b427",
   "metadata": {},
   "outputs": [],
   "source": [
    "from pynxtools.dataconverter.convert import convert"
   ]
  },
  {
   "cell_type": "markdown",
   "id": "113558fb-4ee6-4186-9b96-041c976c0251",
   "metadata": {},
   "source": [
    "The input parameters are defined as follows:\n",
    "\n",
    "**reader**: The specific reader which gets called inside pynxtools. This is supplied in the pynxtools python code. If you create a specific reader for your measurement file it gets selecetd here. \n",
    "\n",
    "**nxdl**: The specific nxdl file to be used. For fluoroscence this should always be `NXfluo` and for differaction measurement `NXmonopd`.\n",
    "    \n",
    "**output**: The output filename of the NeXus file."
   ]
  },
  {
   "cell_type": "code",
   "execution_count": 8,
   "id": "403e7641-93e8-48ea-b4f6-347ad74bacf6",
   "metadata": {},
   "outputs": [
    {
     "name": "stderr",
     "output_type": "stream",
     "text": [
      "Using json_map reader to convert the given files:  \n",
      "• myspot_fluo.mapping_icalepcs2025.json\n",
      "• myspot_multimodal_fluo_2025-08-28.nxs\n",
      "• combined_output.h5\n",
      "• eln_data_fluo.yaml\n",
      "WARNING: Length of axis /ENTRY[entry]/DATA[data]/y does not match to /ENTRY[entry]/DATA[data]/data in dimension 0\n",
      "WARNING: Length of axis /ENTRY[entry]/DATA[data]/x does not match to /ENTRY[entry]/DATA[data]/data in dimension 1\n",
      "WARNING: Field /ENTRY[entry]/SAMPLE[sample]/x written without documentation.\n",
      "WARNING: Field /ENTRY[entry]/SAMPLE[sample]/y written without documentation.\n",
      "WARNING: Field /ENTRY[entry]/DATA[data]/energy written without documentation.\n",
      "WARNING: Field /ENTRY[entry]/DATA[data]/data written without documentation.\n",
      "The output file generated: myspot_fluo.nxs.\n"
     ]
    }
   ],
   "source": [
    "convert(input_file=[\"myspot_fluo.mapping_icalepcs2025.json\", \"myspot_multimodal_fluo_2025-08-28.nxs\", \"combined_output.h5\", \"eln_data_fluo.yaml\"],\n",
    "        reader='json_map',\n",
    "        nxdl='NXfluo',\n",
    "        output='myspot_fluo.nxs')"
   ]
  },
  {
   "cell_type": "code",
   "execution_count": 11,
   "id": "c5929ad8-3b0e-46e7-bfa0-a69dad856e00",
   "metadata": {},
   "outputs": [
    {
     "name": "stderr",
     "output_type": "stream",
     "text": [
      "Using json_map reader to convert the given files:  \n",
      "• myspot_xrd.mapping_icalepcs2025.json\n",
      "• myspot_multimodal_xrd_2025-08-14.nxs\n",
      "• eln_data_xrd.yaml\n",
      "WARNING: The value at /ENTRY[entry]/INSTRUMENT[instrument]/DETECTOR[detector]/data should be one of the following Python types: (<class 'int'>, <class 'numpy.integer'>), as defined in the NXDL as NX_INT.\n",
      "WARNING: Length of axis /ENTRY[entry]/DATA[data]/polar_angle does not match to /ENTRY[entry]/DATA[data]/data in dimension 0\n",
      "WARNING: Field /ENTRY[entry]/DATA[data]/polar_angle written without documentation.\n",
      "WARNING: Field /ENTRY[entry]/DATA[data]/data written without documentation.\n",
      "The output file generated: myspot_xrd.nxs.\n"
     ]
    }
   ],
   "source": [
    "convert(input_file=[\"myspot_xrd.mapping_icalepcs2025.json\", \"myspot_multimodal_xrd_2025-08-14.nxs\", \"eln_data_xrd.yaml\"],\n",
    "        reader=\"json_map\",\n",
    "        nxdl=\"NXmonopd\",\n",
    "        output=\"myspot_xrd.nxs\")"
   ]
  },
  {
   "cell_type": "markdown",
   "id": "b40f745a-2b12-4130-ac6a-39972548c0a5",
   "metadata": {},
   "source": [
    "# Step 5: Visualize NeXus data\n",
    "\n",
    "View the data with H5Web\n",
    "H5Web is a tool for visualizing any data in the h5 data format. Since the NeXus format builds opon h5 it can be used to view this data as well. We just import the package and call H5Web with the output filename from the convert command above. For an analysis on NeXus data files please refer to analysis example.\n",
    "\n",
    "You can also view this data with the H5Viewer or other tools from your local filesystem."
   ]
  },
  {
   "cell_type": "code",
   "execution_count": 14,
   "id": "5df11da9-f202-4dfc-aeb8-dfded3ea6e24",
   "metadata": {},
   "outputs": [
    {
     "data": {
      "application/x-hdf5": "/home/jovyan/uploads/icalepcs_2025_tupd111_nexusdataconversion_patel-3yJtFouVTn6IwQ7quJAe3w/myspot_multimodal_fluo_2025-08-28.nxs",
      "text/plain": [
       "<jupyterlab_h5web.widget.H5Web object>"
      ]
     },
     "execution_count": 14,
     "metadata": {},
     "output_type": "execute_result"
    }
   ],
   "source": [
    "from jupyterlab_h5web import H5Web\n",
    "\n",
    "H5Web(\"myspot_multimodal_fluo_2025-08-28.nxs\")"
   ]
  },
  {
   "cell_type": "code",
   "execution_count": null,
   "id": "d1e9d73d-c095-4c8e-bc3c-cd81c640962a",
   "metadata": {},
   "outputs": [],
   "source": []
  },
  {
   "cell_type": "code",
   "execution_count": 13,
   "id": "bcb9e4f3-f407-4a4e-bdd9-485f7de55c5c",
   "metadata": {},
   "outputs": [
    {
     "name": "stdout",
     "output_type": "stream",
     "text": [
      "Collecting jupyterlab_h5web\n",
      "  Downloading jupyterlab_h5web-12.4.0-py3-none-any.whl.metadata (5.6 kB)\n",
      "Requirement already satisfied: jupyter_server<3,>=1.6 in /opt/conda/lib/python3.12/site-packages (from jupyterlab_h5web) (2.15.0)\n",
      "Requirement already satisfied: h5grove==2.3.0 in /opt/conda/lib/python3.12/site-packages (from jupyterlab_h5web) (2.3.0)\n",
      "Requirement already satisfied: h5py>=3.5 in /opt/conda/lib/python3.12/site-packages (from jupyterlab_h5web) (3.14.0)\n",
      "Requirement already satisfied: numpy in /opt/conda/lib/python3.12/site-packages (from h5grove==2.3.0->jupyterlab_h5web) (1.26.4)\n",
      "Requirement already satisfied: orjson in /opt/conda/lib/python3.12/site-packages (from h5grove==2.3.0->jupyterlab_h5web) (3.11.2)\n",
      "Requirement already satisfied: tifffile in /opt/conda/lib/python3.12/site-packages (from h5grove==2.3.0->jupyterlab_h5web) (2025.6.11)\n",
      "Requirement already satisfied: typing-extensions in /opt/conda/lib/python3.12/site-packages (from h5grove==2.3.0->jupyterlab_h5web) (4.14.1)\n",
      "Requirement already satisfied: anyio>=3.1.0 in /opt/conda/lib/python3.12/site-packages (from jupyter_server<3,>=1.6->jupyterlab_h5web) (4.10.0)\n",
      "Requirement already satisfied: argon2-cffi>=21.1 in /opt/conda/lib/python3.12/site-packages (from jupyter_server<3,>=1.6->jupyterlab_h5web) (23.1.0)\n",
      "Requirement already satisfied: jinja2>=3.0.3 in /opt/conda/lib/python3.12/site-packages (from jupyter_server<3,>=1.6->jupyterlab_h5web) (3.1.6)\n",
      "Requirement already satisfied: jupyter-client>=7.4.4 in /opt/conda/lib/python3.12/site-packages (from jupyter_server<3,>=1.6->jupyterlab_h5web) (8.6.3)\n",
      "Requirement already satisfied: jupyter-core!=5.0.*,>=4.12 in /opt/conda/lib/python3.12/site-packages (from jupyter_server<3,>=1.6->jupyterlab_h5web) (5.7.2)\n",
      "Requirement already satisfied: jupyter-events>=0.11.0 in /opt/conda/lib/python3.12/site-packages (from jupyter_server<3,>=1.6->jupyterlab_h5web) (0.11.0)\n",
      "Requirement already satisfied: jupyter-server-terminals>=0.4.4 in /opt/conda/lib/python3.12/site-packages (from jupyter_server<3,>=1.6->jupyterlab_h5web) (0.5.3)\n",
      "Requirement already satisfied: nbconvert>=6.4.4 in /opt/conda/lib/python3.12/site-packages (from jupyter_server<3,>=1.6->jupyterlab_h5web) (7.16.5)\n",
      "Requirement already satisfied: nbformat>=5.3.0 in /opt/conda/lib/python3.12/site-packages (from jupyter_server<3,>=1.6->jupyterlab_h5web) (5.10.4)\n",
      "Requirement already satisfied: overrides>=5.0 in /opt/conda/lib/python3.12/site-packages (from jupyter_server<3,>=1.6->jupyterlab_h5web) (7.7.0)\n",
      "Requirement already satisfied: packaging>=22.0 in /opt/conda/lib/python3.12/site-packages (from jupyter_server<3,>=1.6->jupyterlab_h5web) (25.0)\n",
      "Requirement already satisfied: prometheus-client>=0.9 in /opt/conda/lib/python3.12/site-packages (from jupyter_server<3,>=1.6->jupyterlab_h5web) (0.22.1)\n",
      "Requirement already satisfied: pyzmq>=24 in /opt/conda/lib/python3.12/site-packages (from jupyter_server<3,>=1.6->jupyterlab_h5web) (26.2.0)\n",
      "Requirement already satisfied: send2trash>=1.8.2 in /opt/conda/lib/python3.12/site-packages (from jupyter_server<3,>=1.6->jupyterlab_h5web) (1.8.3)\n",
      "Requirement already satisfied: terminado>=0.8.3 in /opt/conda/lib/python3.12/site-packages (from jupyter_server<3,>=1.6->jupyterlab_h5web) (0.18.1)\n",
      "Requirement already satisfied: tornado>=6.2.0 in /opt/conda/lib/python3.12/site-packages (from jupyter_server<3,>=1.6->jupyterlab_h5web) (6.5.2)\n",
      "Requirement already satisfied: traitlets>=5.6.0 in /opt/conda/lib/python3.12/site-packages (from jupyter_server<3,>=1.6->jupyterlab_h5web) (5.14.3)\n",
      "Requirement already satisfied: websocket-client>=1.7 in /opt/conda/lib/python3.12/site-packages (from jupyter_server<3,>=1.6->jupyterlab_h5web) (1.8.0)\n",
      "Requirement already satisfied: idna>=2.8 in /opt/conda/lib/python3.12/site-packages (from anyio>=3.1.0->jupyter_server<3,>=1.6->jupyterlab_h5web) (3.10)\n",
      "Requirement already satisfied: sniffio>=1.1 in /opt/conda/lib/python3.12/site-packages (from anyio>=3.1.0->jupyter_server<3,>=1.6->jupyterlab_h5web) (1.3.1)\n",
      "Requirement already satisfied: argon2-cffi-bindings in /opt/conda/lib/python3.12/site-packages (from argon2-cffi>=21.1->jupyter_server<3,>=1.6->jupyterlab_h5web) (21.2.0)\n",
      "Requirement already satisfied: MarkupSafe>=2.0 in /opt/conda/lib/python3.12/site-packages (from jinja2>=3.0.3->jupyter_server<3,>=1.6->jupyterlab_h5web) (3.0.2)\n",
      "Requirement already satisfied: python-dateutil>=2.8.2 in /opt/conda/lib/python3.12/site-packages (from jupyter-client>=7.4.4->jupyter_server<3,>=1.6->jupyterlab_h5web) (2.9.0.post0)\n",
      "Requirement already satisfied: platformdirs>=2.5 in /opt/conda/lib/python3.12/site-packages (from jupyter-core!=5.0.*,>=4.12->jupyter_server<3,>=1.6->jupyterlab_h5web) (4.3.8)\n",
      "Requirement already satisfied: jsonschema>=4.18.0 in /opt/conda/lib/python3.12/site-packages (from jsonschema[format-nongpl]>=4.18.0->jupyter-events>=0.11.0->jupyter_server<3,>=1.6->jupyterlab_h5web) (4.25.0)\n",
      "Requirement already satisfied: python-json-logger>=2.0.4 in /opt/conda/lib/python3.12/site-packages (from jupyter-events>=0.11.0->jupyter_server<3,>=1.6->jupyterlab_h5web) (3.3.0)\n",
      "Requirement already satisfied: pyyaml>=5.3 in /opt/conda/lib/python3.12/site-packages (from jupyter-events>=0.11.0->jupyter_server<3,>=1.6->jupyterlab_h5web) (6.0.2)\n",
      "Requirement already satisfied: referencing in /opt/conda/lib/python3.12/site-packages (from jupyter-events>=0.11.0->jupyter_server<3,>=1.6->jupyterlab_h5web) (0.36.2)\n",
      "Requirement already satisfied: rfc3339-validator in /opt/conda/lib/python3.12/site-packages (from jupyter-events>=0.11.0->jupyter_server<3,>=1.6->jupyterlab_h5web) (0.1.4)\n",
      "Requirement already satisfied: rfc3986-validator>=0.1.1 in /opt/conda/lib/python3.12/site-packages (from jupyter-events>=0.11.0->jupyter_server<3,>=1.6->jupyterlab_h5web) (0.1.1)\n",
      "Requirement already satisfied: beautifulsoup4 in /opt/conda/lib/python3.12/site-packages (from nbconvert>=6.4.4->jupyter_server<3,>=1.6->jupyterlab_h5web) (4.12.3)\n",
      "Requirement already satisfied: bleach!=5.0.0 in /opt/conda/lib/python3.12/site-packages (from bleach[css]!=5.0.0->nbconvert>=6.4.4->jupyter_server<3,>=1.6->jupyterlab_h5web) (6.2.0)\n",
      "Requirement already satisfied: defusedxml in /opt/conda/lib/python3.12/site-packages (from nbconvert>=6.4.4->jupyter_server<3,>=1.6->jupyterlab_h5web) (0.7.1)\n",
      "Requirement already satisfied: jupyterlab-pygments in /opt/conda/lib/python3.12/site-packages (from nbconvert>=6.4.4->jupyter_server<3,>=1.6->jupyterlab_h5web) (0.3.0)\n",
      "Requirement already satisfied: mistune<4,>=2.0.3 in /opt/conda/lib/python3.12/site-packages (from nbconvert>=6.4.4->jupyter_server<3,>=1.6->jupyterlab_h5web) (3.1.0)\n",
      "Requirement already satisfied: nbclient>=0.5.0 in /opt/conda/lib/python3.12/site-packages (from nbconvert>=6.4.4->jupyter_server<3,>=1.6->jupyterlab_h5web) (0.10.2)\n",
      "Requirement already satisfied: pandocfilters>=1.4.1 in /opt/conda/lib/python3.12/site-packages (from nbconvert>=6.4.4->jupyter_server<3,>=1.6->jupyterlab_h5web) (1.5.0)\n",
      "Requirement already satisfied: pygments>=2.4.1 in /opt/conda/lib/python3.12/site-packages (from nbconvert>=6.4.4->jupyter_server<3,>=1.6->jupyterlab_h5web) (2.19.1)\n",
      "Requirement already satisfied: fastjsonschema>=2.15 in /opt/conda/lib/python3.12/site-packages (from nbformat>=5.3.0->jupyter_server<3,>=1.6->jupyterlab_h5web) (2.21.1)\n",
      "Requirement already satisfied: ptyprocess in /opt/conda/lib/python3.12/site-packages (from terminado>=0.8.3->jupyter_server<3,>=1.6->jupyterlab_h5web) (0.7.0)\n",
      "Requirement already satisfied: webencodings in /opt/conda/lib/python3.12/site-packages (from bleach!=5.0.0->bleach[css]!=5.0.0->nbconvert>=6.4.4->jupyter_server<3,>=1.6->jupyterlab_h5web) (0.5.1)\n",
      "Requirement already satisfied: tinycss2<1.5,>=1.1.0 in /opt/conda/lib/python3.12/site-packages (from bleach[css]!=5.0.0->nbconvert>=6.4.4->jupyter_server<3,>=1.6->jupyterlab_h5web) (1.4.0)\n",
      "Requirement already satisfied: attrs>=22.2.0 in /opt/conda/lib/python3.12/site-packages (from jsonschema>=4.18.0->jsonschema[format-nongpl]>=4.18.0->jupyter-events>=0.11.0->jupyter_server<3,>=1.6->jupyterlab_h5web) (25.3.0)\n",
      "Requirement already satisfied: jsonschema-specifications>=2023.03.6 in /opt/conda/lib/python3.12/site-packages (from jsonschema>=4.18.0->jsonschema[format-nongpl]>=4.18.0->jupyter-events>=0.11.0->jupyter_server<3,>=1.6->jupyterlab_h5web) (2025.4.1)\n",
      "Requirement already satisfied: rpds-py>=0.7.1 in /opt/conda/lib/python3.12/site-packages (from jsonschema>=4.18.0->jsonschema[format-nongpl]>=4.18.0->jupyter-events>=0.11.0->jupyter_server<3,>=1.6->jupyterlab_h5web) (0.27.0)\n",
      "Requirement already satisfied: fqdn in /opt/conda/lib/python3.12/site-packages (from jsonschema[format-nongpl]>=4.18.0->jupyter-events>=0.11.0->jupyter_server<3,>=1.6->jupyterlab_h5web) (1.5.1)\n",
      "Requirement already satisfied: isoduration in /opt/conda/lib/python3.12/site-packages (from jsonschema[format-nongpl]>=4.18.0->jupyter-events>=0.11.0->jupyter_server<3,>=1.6->jupyterlab_h5web) (20.11.0)\n",
      "Requirement already satisfied: jsonpointer>1.13 in /opt/conda/lib/python3.12/site-packages (from jsonschema[format-nongpl]>=4.18.0->jupyter-events>=0.11.0->jupyter_server<3,>=1.6->jupyterlab_h5web) (3.0.0)\n",
      "Collecting rfc3987-syntax>=1.1.0 (from jsonschema[format-nongpl]>=4.18.0->jupyter-events>=0.11.0->jupyter_server<3,>=1.6->jupyterlab_h5web)\n",
      "  Downloading rfc3987_syntax-1.1.0-py3-none-any.whl.metadata (7.7 kB)\n",
      "Requirement already satisfied: uri-template in /opt/conda/lib/python3.12/site-packages (from jsonschema[format-nongpl]>=4.18.0->jupyter-events>=0.11.0->jupyter_server<3,>=1.6->jupyterlab_h5web) (1.3.0)\n",
      "Requirement already satisfied: webcolors>=24.6.0 in /opt/conda/lib/python3.12/site-packages (from jsonschema[format-nongpl]>=4.18.0->jupyter-events>=0.11.0->jupyter_server<3,>=1.6->jupyterlab_h5web) (24.11.1)\n",
      "Requirement already satisfied: six>=1.5 in /opt/conda/lib/python3.12/site-packages (from python-dateutil>=2.8.2->jupyter-client>=7.4.4->jupyter_server<3,>=1.6->jupyterlab_h5web) (1.17.0)\n",
      "Requirement already satisfied: cffi>=1.0.1 in /opt/conda/lib/python3.12/site-packages (from argon2-cffi-bindings->argon2-cffi>=21.1->jupyter_server<3,>=1.6->jupyterlab_h5web) (1.17.1)\n",
      "Requirement already satisfied: soupsieve>1.2 in /opt/conda/lib/python3.12/site-packages (from beautifulsoup4->nbconvert>=6.4.4->jupyter_server<3,>=1.6->jupyterlab_h5web) (2.7)\n",
      "Requirement already satisfied: pycparser in /opt/conda/lib/python3.12/site-packages (from cffi>=1.0.1->argon2-cffi-bindings->argon2-cffi>=21.1->jupyter_server<3,>=1.6->jupyterlab_h5web) (2.22)\n",
      "Requirement already satisfied: lark>=1.2.2 in /opt/conda/lib/python3.12/site-packages (from rfc3987-syntax>=1.1.0->jsonschema[format-nongpl]>=4.18.0->jupyter-events>=0.11.0->jupyter_server<3,>=1.6->jupyterlab_h5web) (1.2.2)\n",
      "Requirement already satisfied: arrow>=0.15.0 in /opt/conda/lib/python3.12/site-packages (from isoduration->jsonschema[format-nongpl]>=4.18.0->jupyter-events>=0.11.0->jupyter_server<3,>=1.6->jupyterlab_h5web) (1.3.0)\n",
      "Requirement already satisfied: types-python-dateutil>=2.8.10 in /opt/conda/lib/python3.12/site-packages (from arrow>=0.15.0->isoduration->jsonschema[format-nongpl]>=4.18.0->jupyter-events>=0.11.0->jupyter_server<3,>=1.6->jupyterlab_h5web) (2.9.0.20241206)\n",
      "Downloading jupyterlab_h5web-12.4.0-py3-none-any.whl (810 kB)\n",
      "\u001b[2K   \u001b[90m━━━━━━━━━━━━━━━━━━━━━━━━━━━━━━━━━━━━━━━━\u001b[0m \u001b[32m810.6/810.6 kB\u001b[0m \u001b[31m14.6 MB/s\u001b[0m eta \u001b[36m0:00:00\u001b[0m\n",
      "\u001b[?25hDownloading rfc3987_syntax-1.1.0-py3-none-any.whl (8.0 kB)\n",
      "Installing collected packages: rfc3987-syntax, jupyterlab_h5web\n",
      "Successfully installed jupyterlab_h5web-12.4.0 rfc3987-syntax-1.1.0\n",
      "Note: you may need to restart the kernel to use updated packages.\n"
     ]
    }
   ],
   "source": [
    "%pip install jupyterlab_h5web"
   ]
  },
  {
   "cell_type": "code",
   "execution_count": null,
   "id": "b091bdea-9cc4-4086-baba-298ce53f8a60",
   "metadata": {},
   "outputs": [],
   "source": []
  },
  {
   "cell_type": "code",
   "execution_count": null,
   "id": "24fe41db-720a-4b09-b062-b05557433e23",
   "metadata": {},
   "outputs": [],
   "source": []
  },
  {
   "cell_type": "markdown",
   "id": "f88339b7-aae0-4909-8ea0-caad9dc9fd55",
   "metadata": {},
   "source": [
    "## The snippet of the code used to convert MySpot fluorescence data to one HDF5 file"
   ]
  },
  {
   "cell_type": "code",
   "execution_count": null,
   "id": "feb6052d-f845-4e64-b3bd-10300c2bcbed",
   "metadata": {},
   "outputs": [],
   "source": [
    "import os\n",
    "import h5py\n",
    "from silx.io.convert import write_to_h5\n",
    "\n",
    "# Path to your .mca SPEC files\n",
    "spec_dir = \"./mca/\"\n",
    "\n",
    "\n",
    "# Output HDF5 file\n",
    "output_h5_file = \"combined_output.h5\"\n",
    "\n",
    "# Get all matching SPEC files\n",
    "spec_files = sorted([\n",
    "    os.path.join(spec_dir, f)\n",
    "    for f in os.listdir(spec_dir)\n",
    "    if f.endswith(\".mca\") and f.startswith(\"2022-09-30_scans_00003\")\n",
    "])\n",
    "\n",
    "for spec_file in spec_files:\n",
    "    base = os.path.splitext(os.path.basename(spec_file))[0]\n",
    "    temp_path = f\"/tmp_{base}\"         # Temporary group for silx\n",
    "    final_path = f\"/entry_{base}\"      # Final NeXus-compliant NXentry\n",
    "\n",
    "    print(f\"Converting {spec_file} to temporary group {temp_path}\")\n",
    "\n",
    "    #  Correct use of write_to_h5 with only positional arguments\n",
    "    write_to_h5(spec_file, output_h5_file, temp_path, \"a\")\n",
    "\n",
    "    # Open HDF5 and move inner NXentry to final path\n",
    "    with h5py.File(output_h5_file, \"a\") as h5f:\n",
    "        tmp_group = h5f[temp_path]\n",
    "        entry_names = list(tmp_group.keys())\n",
    "\n",
    "        if len(entry_names) != 1:\n",
    "            print(f\"Unexpected structure inside {temp_path}. Skipping.\")\n",
    "            continue\n",
    "\n",
    "        nxentry_name = entry_names[0]\n",
    "        src_group = tmp_group[nxentry_name]\n",
    "\n",
    "        # Create destination group\n",
    "        if final_path in h5f:\n",
    "            print(f\"{final_path} already exists. Skipping.\")\n",
    "            continue\n",
    "\n",
    "        h5f.copy(src_group, final_path)\n",
    "        h5f[final_path].attrs[\"NX_class\"] = \"NXentry\"\n",
    "\n",
    "        # Clean up: remove temporary group\n",
    "        del h5f[temp_path]\n",
    "\n",
    "        print(f\"Moved {nxentry_name} → {final_path}\")\n"
   ]
  }
 ],
 "metadata": {
  "kernelspec": {
   "display_name": "Python 3 (ipykernel)",
   "language": "python",
   "name": "python3"
  },
  "language_info": {
   "codemirror_mode": {
    "name": "ipython",
    "version": 3
   },
   "file_extension": ".py",
   "mimetype": "text/x-python",
   "name": "python",
   "nbconvert_exporter": "python",
   "pygments_lexer": "ipython3",
   "version": "3.12.8"
  }
 },
 "nbformat": 4,
 "nbformat_minor": 5
}
