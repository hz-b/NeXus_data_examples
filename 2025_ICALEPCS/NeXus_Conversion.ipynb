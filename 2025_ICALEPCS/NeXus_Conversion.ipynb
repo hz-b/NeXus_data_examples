{
 "cells": [
  {
   "cell_type": "markdown",
   "id": "a2b7faf5-dd75-4f28-9f41-4eb812ee9127",
   "metadata": {},
   "source": [
    "<img src=\"figures/ICALPECS_2025_logo.png\">"
   ]
  },
  {
   "cell_type": "markdown",
   "id": "c3906731-d471-4e1d-a66b-4e01a550d74b",
   "metadata": {},
   "source": [
    "# Convert myspot multimodal experiment data in to NeXus standand format\n",
    "\n",
    "- [x] Step 1: Store measurement at each point over the sample into 3D NXdata --> 1 hdf per ET (here, NXfluo and NXxrd)\n",
    "- [x] Step 2: Prepare json mapping file\n",
    "- [x] Step 3: Make use of eln to demostrate capability of structured eln data\n",
    "- [x] Step 4: Run converter\n",
    "- [x] Step 5: Visualize\n",
    "- Step 6: Evaluation ?\n",
    "\n",
    "### Say about the general workflow at the beamline, for eg. \n",
    "- uploading/sending directly to upload\n",
    "- --> access it through NORTH\n",
    "- --> data reading and a plotting notebook\n",
    "- --> quick analyis without additional set up  "
   ]
  },
  {
   "cell_type": "markdown",
   "id": "74c1a343-93ef-4181-8273-d78c411282de",
   "metadata": {},
   "source": [
    "## Note:\n",
    "- /entry/instrument/(from spec h5 file i.e combined_output.h5) --> flush into NXcollection ?\n",
    "- /entry/xas/instrument/(linked here 3D data): Default 3D\n",
    "- /entry/xrd/instrument/(linked here 3D data): Default 3D\n",
    "- user and sample data get it form eln\n",
    "- Make notenook 2: Evaluation --> here put summed xrf and xrd data in NXdata default"
   ]
  },
  {
   "cell_type": "markdown",
   "id": "3eeb6054-38d7-417a-be44-b73939acc653",
   "metadata": {},
   "source": [
    "# Step 1: One file with NXdata per ET"
   ]
  },
  {
   "cell_type": "code",
   "execution_count": null,
   "id": "b13d56a9-9db8-449d-8d52-86ba0c06abbb",
   "metadata": {},
   "outputs": [],
   "source": [
    "\n"
   ]
  },
  {
   "cell_type": "markdown",
   "id": "95d409a9-c63c-47ac-a71f-4327ef638df4",
   "metadata": {},
   "source": [
    "# Step 2: Configuration file"
   ]
  },
  {
   "cell_type": "code",
   "execution_count": 58,
   "id": "9455414c-8281-42cc-ab78-b24d7e4e14b8",
   "metadata": {},
   "outputs": [
    {
     "name": "stdout",
     "output_type": "stream",
     "text": [
      "{'/@default': 'entry',\n",
      " '/ENTRY[entry]/@default': 'data',\n",
      " '/ENTRY[entry]/DATA[data]/@axes': ['energy'],\n",
      " '/ENTRY[entry]/DATA[data]/@signal': 'data',\n",
      " '/ENTRY[entry]/DATA[data]/data': {'link': '/entry/instrument/fluorescence/data'},\n",
      " '/ENTRY[entry]/DATA[data]/energy': {'link': '/entry/instrument/fluorescence/energy'},\n",
      " '/ENTRY[entry]/DATA[data]/energy/@units': 'eV',\n",
      " '/ENTRY[entry]/INSTRUMENT[instrument]/SOURCE[source]/name': 'BESSY II',\n",
      " '/ENTRY[entry]/INSTRUMENT[instrument]/SOURCE[source]/probe': 'x-ray',\n",
      " '/ENTRY[entry]/INSTRUMENT[instrument]/SOURCE[source]/type': 'Synchrotron '\n",
      "                                                             'X-ray Source',\n",
      " '/ENTRY[entry]/INSTRUMENT[instrument]/fluorescence/data': '/entry_NXfluo/data/intensity_sum',\n",
      " '/ENTRY[entry]/INSTRUMENT[instrument]/fluorescence/energy': '/entry_NXfluo/data/energy',\n",
      " '/ENTRY[entry]/INSTRUMENT[instrument]/monochromator/wavelength': 1.0,\n",
      " '/ENTRY[entry]/INSTRUMENT[instrument]/monochromator/wavelength/@units': 'angstrom',\n",
      " '/ENTRY[entry]/MONITOR[monitor]/data': [1, 2, 3],\n",
      " '/ENTRY[entry]/MONITOR[monitor]/mode': 'monitor',\n",
      " '/ENTRY[entry]/MONITOR[monitor]/preset': 0.0,\n",
      " '/ENTRY[entry]/SAMPLE[sample]/name': 'My wonderful sample',\n",
      " '/ENTRY[entry]/USER[user]/email': '/user/email',\n",
      " '/ENTRY[entry]/USER[user]/name': '/user/name',\n",
      " '/ENTRY[entry]/definition': 'NXfluo',\n",
      " '/ENTRY[entry]/start_time': '2022-01-22T12:14:12.05018+00:00',\n",
      " '/ENTRY[entry]/title': '/entry_2022-09-30_scans_00003_00000/title'}\n"
     ]
    }
   ],
   "source": [
    "import json\n",
    "from pprint import pprint\n",
    "\n",
    "with open('myspot_fluo.mapping_icalepcs2025.json') as json_data:\n",
    "    d = json.load(json_data)\n",
    "    json_data.close()\n",
    "    pprint(d)"
   ]
  },
  {
   "cell_type": "markdown",
   "id": "1a86ca62-592a-4d58-98f7-942c4fde2fe4",
   "metadata": {},
   "source": [
    "# Step 3: Demostrate use of structure eln"
   ]
  },
  {
   "cell_type": "code",
   "execution_count": 2,
   "id": "918f9b9f-1991-4031-aba9-0db9489e5ce4",
   "metadata": {},
   "outputs": [
    {
     "name": "stdout",
     "output_type": "stream",
     "text": [
      "{'process': {'note': {'description': 'This program does the azimuthal '\n",
      "                                     'integration of the data acquired at '\n",
      "                                     'myspot'},\n",
      "             'program': 'bluesky_v0.1.1'},\n",
      " 'sample': {'name': 'My Wonderful Sample', 'rotation_angle': 999.0},\n",
      " 'user': {'email': 'sonal.patel@helmholtz-berlin.de', 'name': 'Sonal'}}\n"
     ]
    }
   ],
   "source": [
    "import yaml\n",
    "import pprint\n",
    "\n",
    "with open(\"eln_data_xrd.yaml\") as stream:\n",
    "    try:\n",
    "        pprint.pprint(yaml.safe_load(stream))\n",
    "    except yaml.YAMLError as exc:\n",
    "        pprint.pprint(exc)\n"
   ]
  },
  {
   "cell_type": "code",
   "execution_count": null,
   "id": "c4503ea3-06da-4c49-81ec-a09a09f3792d",
   "metadata": {},
   "outputs": [],
   "source": []
  },
  {
   "cell_type": "markdown",
   "id": "b42b1ccf-906e-4976-bafb-3f3c328837d8",
   "metadata": {},
   "source": [
    "# Step 4: Run the converter\n",
    "\n",
    "To convert the available files to the NeXus format we use the convert function readily supplied by pynxtools. It uses the downloaded measurement file, a json config file and optionally an electronic lab notebook (ELN) yaml is used to collect the (meta)data not capture during experiment. The json config file maps specific metadata from the h5 measurement file to the nxs file, i.e. a pressure reading which automatically gets collected during measurement. The ELN is a file which supplies additional metadata which is written into the NeXus file. This is data which is not collected automatically, such as the person conducting the experiment. It can be written manually or generated, e.g. by the NOMAD ELN functionality.\n",
    "\n",
    "The convert command may also be executed in the command line with the command dataconverter:\n",
    "\n",
    "```\n",
    "dataconverter \\\n",
    "    --reader json_map \\\n",
    "    --nxdl NXbessy \\\n",
    "    --input-file myspot_multimodal_xrd.mapping.json \\\n",
    "    --input-file eln_data.yaml \\\n",
    "    --output myspot_multimodal.nxs \n",
    "```"
   ]
  },
  {
   "cell_type": "code",
   "execution_count": 55,
   "id": "5cd1d459-0e53-40e4-bc09-6ca0c4b5b427",
   "metadata": {},
   "outputs": [],
   "source": [
    "from pynxtools.dataconverter.convert import convert"
   ]
  },
  {
   "cell_type": "markdown",
   "id": "113558fb-4ee6-4186-9b96-041c976c0251",
   "metadata": {},
   "source": [
    "The input parameters are defined as follows:\n",
    "\n",
    "**reader**: The specific reader which gets called inside pynxtools. This is supplied in the pynxtools python code. If you create a specific reader for your measurement file it gets selecetd here. \n",
    "\n",
    "**nxdl**: The specific nxdl file to be used. For fluoroscence this should always be `NXfluo` and for differaction measurement `NXmonopd`.\n",
    "    \n",
    "**output**: The output filename of the NeXus file."
   ]
  },
  {
   "cell_type": "code",
   "execution_count": 63,
   "id": "403e7641-93e8-48ea-b4f6-347ad74bacf6",
   "metadata": {},
   "outputs": [
    {
     "name": "stderr",
     "output_type": "stream",
     "text": [
      "Using json_map reader to convert the given files:  \n",
      "• myspot_fluo.mapping_icalepcs2025.json\n",
      "• myspot_multimodal_fluo_2025-08-28.nxs\n",
      "• combined_output.h5\n",
      "• eln_data_fluo.yaml\n",
      "WARNING: The value at /ENTRY[entry]/title should be one of the following Python types: (<class 'str'>, <class 'numpy.character'>), as defined in the NXDL as NX_CHAR.\n",
      "WARNING: Field /ENTRY[entry]/SAMPLE[sample]/x written without documentation.\n",
      "WARNING: Field /ENTRY[entry]/SAMPLE[sample]/y written without documentation.\n",
      "WARNING: Field /ENTRY[entry]/DATA[data]/energy written without documentation.\n",
      "WARNING: Field /ENTRY[entry]/DATA[data]/data written without documentation.\n",
      "The output file generated: myspot_fluo.nxs.\n"
     ]
    }
   ],
   "source": [
    "convert(input_file=[\"myspot_fluo.mapping_icalepcs2025.json\", \"myspot_multimodal_fluo_2025-08-28.nxs\", \"combined_output.h5\", \"eln_data_fluo.yaml\"],\n",
    "        reader='json_map',\n",
    "        nxdl='NXfluo',\n",
    "        output='myspot_fluo.nxs')"
   ]
  },
  {
   "cell_type": "code",
   "execution_count": 5,
   "id": "c5929ad8-3b0e-46e7-bfa0-a69dad856e00",
   "metadata": {},
   "outputs": [
    {
     "name": "stderr",
     "output_type": "stream",
     "text": [
      "Using json_map reader to convert the given files:  \n",
      "• myspot_xrd.mapping_icalepcs2025.json\n",
      "• myspot_multimodal_xrd_2025-08-14.nxs\n",
      "• eln_data_xrd.yaml\n",
      "WARNING: The value at /ENTRY[entry]/INSTRUMENT[instrument]/DETECTOR[detector]/data should be one of the following Python types: (<class 'int'>, <class 'numpy.integer'>), as defined in the NXDL as NX_INT.\n",
      "WARNING: The value at /ENTRY[entry]/MONITOR[monitor]/integral should be one of the following Python types: (<class 'float'>, <class 'numpy.floating'>), as defined in the NXDL as NX_FLOAT.\n",
      "WARNING: Field /ENTRY[entry]/DATA[data]/polar_angle written without documentation.\n",
      "WARNING: Field /ENTRY[entry]/DATA[data]/data written without documentation.\n",
      "The output file generated: myspot_xrd.nxs.\n"
     ]
    }
   ],
   "source": [
    "convert(input_file=[\"myspot_xrd.mapping_icalepcs2025.json\", \"myspot_multimodal_xrd_2025-08-14.nxs\", \"eln_data_xrd.yaml\"],\n",
    "        reader=\"json_map\",\n",
    "        nxdl=\"NXmonopd\",\n",
    "        output=\"myspot_xrd.nxs\")"
   ]
  },
  {
   "cell_type": "code",
   "execution_count": null,
   "id": "5fc30ecb-1c0d-4f91-9374-c8bd7526430f",
   "metadata": {},
   "outputs": [],
   "source": []
  },
  {
   "cell_type": "markdown",
   "id": "eef9ab77-4610-4f62-ae8d-40c0959eb505",
   "metadata": {},
   "source": []
  },
  {
   "cell_type": "markdown",
   "id": "b40f745a-2b12-4130-ac6a-39972548c0a5",
   "metadata": {},
   "source": [
    "# Step 5: Visualize NeXus data\n",
    "\n",
    "View the data with H5Web\n",
    "H5Web is a tool for visualizing any data in the h5 data format. Since the NeXus format builds opon h5 it can be used to view this data as well. We just import the package and call H5Web with the output filename from the convert command above. For an analysis on NeXus data files please refer to analysis example.\n",
    "\n",
    "You can also view this data with the H5Viewer or other tools from your local filesystem."
   ]
  },
  {
   "cell_type": "code",
   "execution_count": 16,
   "id": "62810171-d244-42ab-bfea-c6cedc402795",
   "metadata": {},
   "outputs": [
    {
     "name": "stdout",
     "output_type": "stream",
     "text": [
      "entry -> <class 'h5py._hl.group.Group'>\n",
      "entry/data -> <class 'h5py._hl.group.Group'>\n",
      "entry/definition -> <class 'h5py._hl.dataset.Dataset'>\n",
      "entry/instrument -> <class 'h5py._hl.group.Group'>\n",
      "entry/instrument/fluorescence -> <class 'h5py._hl.group.Group'>\n",
      "entry/instrument/fluorescence/data -> <class 'h5py._hl.dataset.Dataset'>\n",
      "entry/instrument/fluorescence/energy -> <class 'h5py._hl.dataset.Dataset'>\n",
      "entry/instrument/monochromator -> <class 'h5py._hl.group.Group'>\n",
      "entry/instrument/monochromator/wavelength -> <class 'h5py._hl.dataset.Dataset'>\n",
      "entry/instrument/source -> <class 'h5py._hl.group.Group'>\n",
      "entry/instrument/source/name -> <class 'h5py._hl.dataset.Dataset'>\n",
      "entry/instrument/source/probe -> <class 'h5py._hl.dataset.Dataset'>\n",
      "entry/instrument/source/type -> <class 'h5py._hl.dataset.Dataset'>\n",
      "entry/monitor -> <class 'h5py._hl.group.Group'>\n",
      "entry/monitor/data -> <class 'h5py._hl.dataset.Dataset'>\n",
      "entry/monitor/mode -> <class 'h5py._hl.dataset.Dataset'>\n",
      "entry/monitor/preset -> <class 'h5py._hl.dataset.Dataset'>\n",
      "entry/sample -> <class 'h5py._hl.group.Group'>\n",
      "entry/sample/name -> <class 'h5py._hl.dataset.Dataset'>\n",
      "entry/start_time -> <class 'h5py._hl.dataset.Dataset'>\n",
      "entry/title -> <class 'h5py._hl.dataset.Dataset'>\n",
      "entry/user -> <class 'h5py._hl.group.Group'>\n",
      "entry/user/email -> <class 'h5py._hl.dataset.Dataset'>\n",
      "entry/user/name -> <class 'h5py._hl.dataset.Dataset'>\n"
     ]
    }
   ],
   "source": [
    "import h5py\n",
    "\n",
    "def print_h5_structure(name, obj):\n",
    "    print(name, \"->\", type(obj))\n",
    "\n",
    "with h5py.File(\"myspot_fluo.nxs\", \"r\") as f:\n",
    "    f.visititems(print_h5_structure)"
   ]
  },
  {
   "cell_type": "code",
   "execution_count": 53,
   "id": "5df11da9-f202-4dfc-aeb8-dfded3ea6e24",
   "metadata": {},
   "outputs": [
    {
     "data": {
      "application/x-hdf5": "/home/sonal/BESSYII/SandorVisit/bessy/nomad_uploads/myspot_multimodal_fluo_2025-08-14.nxs",
      "text/plain": [
       "<jupyterlab_h5web.widget.H5Web object>"
      ]
     },
     "execution_count": 53,
     "metadata": {},
     "output_type": "execute_result"
    }
   ],
   "source": [
    "from jupyterlab_h5web import H5Web\n",
    "\n",
    "H5Web(\"myspot_multimodal_fluo_2025-08-14.nxs\")"
   ]
  },
  {
   "cell_type": "code",
   "execution_count": 9,
   "id": "5b709b6a-83dc-4f3d-bc86-426d71baac5d",
   "metadata": {},
   "outputs": [
    {
     "data": {
      "application/x-hdf5": "/home/sonal/BESSYII/SandorVisit/bessy/nomad_uploads/myspot_xrd.nxs",
      "text/plain": [
       "<jupyterlab_h5web.widget.H5Web object>"
      ]
     },
     "execution_count": 9,
     "metadata": {
      "path": "/entry"
     },
     "output_type": "execute_result"
    }
   ],
   "source": [
    "H5Web(\"myspot_xrd.nxs\", path=\"/entry\")"
   ]
  },
  {
   "cell_type": "code",
   "execution_count": 18,
   "id": "2db84671-5cd2-460a-b0cd-26e96f2ca5cf",
   "metadata": {},
   "outputs": [
    {
     "name": "stdout",
     "output_type": "stream",
     "text": [
      "<HDF5 group \"/entry/data\" (2 members)>\n"
     ]
    },
    {
     "ename": "KeyError",
     "evalue": "\"Unable to synchronously open object (object 'energy' doesn't exist)\"",
     "output_type": "error",
     "traceback": [
      "\u001b[0;31m---------------------------------------------------------------------------\u001b[0m",
      "\u001b[0;31mKeyError\u001b[0m                                  Traceback (most recent call last)",
      "Cell \u001b[0;32mIn[18], line 14\u001b[0m\n\u001b[1;32m     11\u001b[0m \u001b[38;5;28mprint\u001b[39m(data_group)\n\u001b[1;32m     13\u001b[0m \u001b[38;5;66;03m# Usually the main dataset is named 'signal'\u001b[39;00m\n\u001b[0;32m---> 14\u001b[0m signal \u001b[38;5;241m=\u001b[39m data_group[\u001b[38;5;124m\"\u001b[39m\u001b[38;5;124menergy\u001b[39m\u001b[38;5;124m\"\u001b[39m][:]\n\u001b[1;32m     16\u001b[0m \u001b[38;5;28mprint\u001b[39m(\u001b[38;5;124mf\u001b[39m\u001b[38;5;124m\"\u001b[39m\u001b[38;5;124mDataset shape: \u001b[39m\u001b[38;5;132;01m{\u001b[39;00msignal\u001b[38;5;241m.\u001b[39mshape\u001b[38;5;132;01m}\u001b[39;00m\u001b[38;5;124m\"\u001b[39m)\n\u001b[1;32m     18\u001b[0m \u001b[38;5;66;03m# Plot depending on data dimension\u001b[39;00m\n",
      "File \u001b[0;32mh5py/_objects.pyx:54\u001b[0m, in \u001b[0;36mh5py._objects.with_phil.wrapper\u001b[0;34m()\u001b[0m\n",
      "File \u001b[0;32mh5py/_objects.pyx:55\u001b[0m, in \u001b[0;36mh5py._objects.with_phil.wrapper\u001b[0;34m()\u001b[0m\n",
      "File \u001b[0;32m~/anaconda3/lib/python3.11/site-packages/h5py/_hl/group.py:357\u001b[0m, in \u001b[0;36mGroup.__getitem__\u001b[0;34m(self, name)\u001b[0m\n\u001b[1;32m    355\u001b[0m         \u001b[38;5;28;01mraise\u001b[39;00m \u001b[38;5;167;01mValueError\u001b[39;00m(\u001b[38;5;124m\"\u001b[39m\u001b[38;5;124mInvalid HDF5 object reference\u001b[39m\u001b[38;5;124m\"\u001b[39m)\n\u001b[1;32m    356\u001b[0m \u001b[38;5;28;01melif\u001b[39;00m \u001b[38;5;28misinstance\u001b[39m(name, (\u001b[38;5;28mbytes\u001b[39m, \u001b[38;5;28mstr\u001b[39m)):\n\u001b[0;32m--> 357\u001b[0m     oid \u001b[38;5;241m=\u001b[39m h5o\u001b[38;5;241m.\u001b[39mopen(\u001b[38;5;28mself\u001b[39m\u001b[38;5;241m.\u001b[39mid, \u001b[38;5;28mself\u001b[39m\u001b[38;5;241m.\u001b[39m_e(name), lapl\u001b[38;5;241m=\u001b[39m\u001b[38;5;28mself\u001b[39m\u001b[38;5;241m.\u001b[39m_lapl)\n\u001b[1;32m    358\u001b[0m \u001b[38;5;28;01melse\u001b[39;00m:\n\u001b[1;32m    359\u001b[0m     \u001b[38;5;28;01mraise\u001b[39;00m \u001b[38;5;167;01mTypeError\u001b[39;00m(\u001b[38;5;124m\"\u001b[39m\u001b[38;5;124mAccessing a group is done with bytes or str, \u001b[39m\u001b[38;5;124m\"\u001b[39m\n\u001b[1;32m    360\u001b[0m                     \u001b[38;5;124m\"\u001b[39m\u001b[38;5;124mnot \u001b[39m\u001b[38;5;132;01m{}\u001b[39;00m\u001b[38;5;124m\"\u001b[39m\u001b[38;5;241m.\u001b[39mformat(\u001b[38;5;28mtype\u001b[39m(name)))\n",
      "File \u001b[0;32mh5py/_objects.pyx:54\u001b[0m, in \u001b[0;36mh5py._objects.with_phil.wrapper\u001b[0;34m()\u001b[0m\n",
      "File \u001b[0;32mh5py/_objects.pyx:55\u001b[0m, in \u001b[0;36mh5py._objects.with_phil.wrapper\u001b[0;34m()\u001b[0m\n",
      "File \u001b[0;32mh5py/h5o.pyx:257\u001b[0m, in \u001b[0;36mh5py.h5o.open\u001b[0;34m()\u001b[0m\n",
      "\u001b[0;31mKeyError\u001b[0m: \"Unable to synchronously open object (object 'energy' doesn't exist)\""
     ]
    }
   ],
   "source": [
    "\n"
   ]
  },
  {
   "cell_type": "code",
   "execution_count": 5,
   "id": "afba0fe8-a125-4248-9b99-37b47c174781",
   "metadata": {},
   "outputs": [
    {
     "name": "stdout",
     "output_type": "stream",
     "text": [
      "4.3.4\n"
     ]
    }
   ],
   "source": []
  },
  {
   "cell_type": "code",
   "execution_count": null,
   "id": "d1e9d73d-c095-4c8e-bc3c-cd81c640962a",
   "metadata": {},
   "outputs": [],
   "source": []
  },
  {
   "cell_type": "code",
   "execution_count": 4,
   "id": "60cfea24-d9a2-4d50-bf29-198bdbe5c75b",
   "metadata": {},
   "outputs": [
    {
     "name": "stdout",
     "output_type": "stream",
     "text": [
      "\u001b[33mDEPRECATION: Loading egg at /home/sonal/anaconda3/lib/python3.11/site-packages/nexusformat-1.0.7-py3.11.egg is deprecated. pip 24.3 will enforce this behaviour change. A possible replacement is to use pip for package installation.. Discussion can be found at https://github.com/pypa/pip/issues/12330\u001b[0m\u001b[33m\n",
      "\u001b[0m\u001b[33mDEPRECATION: Loading egg at /home/sonal/anaconda3/lib/python3.11/site-packages/qtconsole-5.6.0-py3.11.egg is deprecated. pip 24.3 will enforce this behaviour change. A possible replacement is to use pip for package installation.. Discussion can be found at https://github.com/pypa/pip/issues/12330\u001b[0m\u001b[33m\n",
      "\u001b[0m\u001b[33mDEPRECATION: Loading egg at /home/sonal/anaconda3/lib/python3.11/site-packages/spec2nexus-2021.2.6-py3.11.egg is deprecated. pip 24.3 will enforce this behaviour change. A possible replacement is to use pip for package installation.. Discussion can be found at https://github.com/pypa/pip/issues/12330\u001b[0m\u001b[33m\n",
      "\u001b[0m\u001b[33mDEPRECATION: Loading egg at /home/sonal/anaconda3/lib/python3.11/site-packages/sif_parser-0.3.0-py3.11.egg is deprecated. pip 24.3 will enforce this behaviour change. A possible replacement is to use pip for package installation.. Discussion can be found at https://github.com/pypa/pip/issues/12330\u001b[0m\u001b[33m\n",
      "\u001b[0m\u001b[33mDEPRECATION: Loading egg at /home/sonal/anaconda3/lib/python3.11/site-packages/setuptools_scm-8.1.0-py3.11.egg is deprecated. pip 24.3 will enforce this behaviour change. A possible replacement is to use pip for package installation.. Discussion can be found at https://github.com/pypa/pip/issues/12330\u001b[0m\u001b[33m\n",
      "\u001b[0m\u001b[33mDEPRECATION: Loading egg at /home/sonal/anaconda3/lib/python3.11/site-packages/lmfit-1.3.2-py3.11.egg is deprecated. pip 24.3 will enforce this behaviour change. A possible replacement is to use pip for package installation.. Discussion can be found at https://github.com/pypa/pip/issues/12330\u001b[0m\u001b[33m\n",
      "\u001b[0m\u001b[33mDEPRECATION: Loading egg at /home/sonal/anaconda3/lib/python3.11/site-packages/NeXpy-1.0.10.dev11+g24355124-py3.11.egg is deprecated. pip 24.3 will enforce this behaviour change. A possible replacement is to use pip for package installation.. Discussion can be found at https://github.com/pypa/pip/issues/12330\u001b[0m\u001b[33m\n",
      "\u001b[0m\u001b[33mDEPRECATION: Loading egg at /home/sonal/anaconda3/lib/python3.11/site-packages/javascript-1!1.2.1-py3.11.egg is deprecated. pip 24.3 will enforce this behaviour change. A possible replacement is to use pip for package installation.. Discussion can be found at https://github.com/pypa/pip/issues/12330\u001b[0m\u001b[33m\n",
      "\u001b[0m\u001b[33mDEPRECATION: Loading egg at /home/sonal/anaconda3/lib/python3.11/site-packages/asteval-1.0.5-py3.11.egg is deprecated. pip 24.3 will enforce this behaviour change. A possible replacement is to use pip for package installation.. Discussion can be found at https://github.com/pypa/pip/issues/12330\u001b[0m\u001b[33m\n",
      "\u001b[0m\u001b[33mDEPRECATION: Loading egg at /home/sonal/anaconda3/lib/python3.11/site-packages/uncertainties-3.2.2-py3.11.egg is deprecated. pip 24.3 will enforce this behaviour change. A possible replacement is to use pip for package installation.. Discussion can be found at https://github.com/pypa/pip/issues/12330\u001b[0m\u001b[33m\n",
      "\u001b[0m\u001b[33mDEPRECATION: Loading egg at /home/sonal/anaconda3/lib/python3.11/site-packages/argparse-1.4.0-py3.11.egg is deprecated. pip 24.3 will enforce this behaviour change. A possible replacement is to use pip for package installation.. Discussion can be found at https://github.com/pypa/pip/issues/12330\u001b[0m\u001b[33m\n",
      "\u001b[0m\u001b[33mDEPRECATION: Loading egg at /home/sonal/anaconda3/lib/python3.11/site-packages/ansi2html-1.9.2-py3.11.egg is deprecated. pip 24.3 will enforce this behaviour change. A possible replacement is to use pip for package installation.. Discussion can be found at https://github.com/pypa/pip/issues/12330\u001b[0m\u001b[33m\n",
      "\u001b[0m\u001b[33mDEPRECATION: Loading egg at /home/sonal/anaconda3/lib/python3.11/site-packages/fonttools-4.54.1-py3.11-linux-x86_64.egg is deprecated. pip 24.3 will enforce this behaviour change. A possible replacement is to use pip for package installation.. Discussion can be found at https://github.com/pypa/pip/issues/12330\u001b[0m\u001b[33m\n",
      "\u001b[0m\u001b[33mDEPRECATION: Loading egg at /home/sonal/anaconda3/lib/python3.11/site-packages/mplcursors-0.5.3-py3.11.egg is deprecated. pip 24.3 will enforce this behaviour change. A possible replacement is to use pip for package installation.. Discussion can be found at https://github.com/pypa/pip/issues/12330\u001b[0m\u001b[33m\n",
      "\u001b[0m\u001b[33mDEPRECATION: Loading egg at /home/sonal/anaconda3/lib/python3.11/site-packages/pylatexenc-3.0a30-py3.11.egg is deprecated. pip 24.3 will enforce this behaviour change. A possible replacement is to use pip for package installation.. Discussion can be found at https://github.com/pypa/pip/issues/12330\u001b[0m\u001b[33m\n",
      "\u001b[0mRequirement already satisfied: silx in /home/sonal/anaconda3/lib/python3.11/site-packages (2.1.0)\n",
      "Requirement already satisfied: numpy in /home/sonal/anaconda3/lib/python3.11/site-packages (from silx) (1.26.4)\n",
      "Requirement already satisfied: packaging in /home/sonal/anaconda3/lib/python3.11/site-packages (from silx) (23.1)\n",
      "Requirement already satisfied: h5py in /home/sonal/anaconda3/lib/python3.11/site-packages (from silx) (3.12.1)\n",
      "Requirement already satisfied: fabio>=0.9 in /home/sonal/anaconda3/lib/python3.11/site-packages (from silx) (2024.4.0)\n",
      "Requirement already satisfied: hdf5plugin in /home/sonal/anaconda3/lib/python3.11/site-packages (from fabio>=0.9->silx) (4.4.0)\n",
      "Requirement already satisfied: lxml in /home/sonal/anaconda3/lib/python3.11/site-packages (from fabio>=0.9->silx) (4.9.3)\n",
      "Requirement already satisfied: pillow in /home/sonal/anaconda3/lib/python3.11/site-packages (from fabio>=0.9->silx) (10.2.0)\n",
      "Note: you may need to restart the kernel to use updated packages.\n"
     ]
    }
   ],
   "source": [
    "%pip install silx"
   ]
  },
  {
   "cell_type": "code",
   "execution_count": 2,
   "id": "6d72e46b-ee04-4d5f-be16-d60eadd9e16b",
   "metadata": {},
   "outputs": [
    {
     "name": "stdout",
     "output_type": "stream",
     "text": [
      "Requirement already satisfied: pynxtools in /opt/conda/lib/python3.12/site-packages (0.11.1)\n",
      "Requirement already satisfied: click>=7.1.2 in /opt/conda/lib/python3.12/site-packages (from pynxtools) (8.2.1)\n",
      "Requirement already satisfied: click_default_group in /opt/conda/lib/python3.12/site-packages (from pynxtools) (1.2.4)\n",
      "Requirement already satisfied: h5py>=3.6.0 in /opt/conda/lib/python3.12/site-packages (from pynxtools) (3.14.0)\n",
      "Requirement already satisfied: xarray>=0.20.2 in /opt/conda/lib/python3.12/site-packages (from pynxtools) (2025.7.1)\n",
      "Requirement already satisfied: PyYAML>=6.0 in /opt/conda/lib/python3.12/site-packages (from pynxtools) (6.0.2)\n",
      "Requirement already satisfied: numpy<2.0.0,>=1.22.4 in /opt/conda/lib/python3.12/site-packages (from pynxtools) (1.26.4)\n",
      "Requirement already satisfied: pandas>=1.3.2 in /opt/conda/lib/python3.12/site-packages (from pynxtools) (2.3.1)\n",
      "Requirement already satisfied: ase>=3.19.0 in /opt/conda/lib/python3.12/site-packages (from pynxtools) (3.22.1)\n",
      "Requirement already satisfied: mergedeep in /opt/conda/lib/python3.12/site-packages (from pynxtools) (1.3.4)\n",
      "Requirement already satisfied: importlib-metadata in /opt/conda/lib/python3.12/site-packages (from pynxtools) (8.7.0)\n",
      "Requirement already satisfied: lxml>=4.9.1 in /opt/conda/lib/python3.12/site-packages (from pynxtools) (6.0.0)\n",
      "Requirement already satisfied: toposort>=1.10.0 in /opt/conda/lib/python3.12/site-packages (from pynxtools) (1.10)\n",
      "Requirement already satisfied: anytree in /opt/conda/lib/python3.12/site-packages (from pynxtools) (2.13.0)\n",
      "Requirement already satisfied: pint in /opt/conda/lib/python3.12/site-packages (from pynxtools) (0.25)\n",
      "Requirement already satisfied: matplotlib>=3.1.0 in /opt/conda/lib/python3.12/site-packages (from ase>=3.19.0->pynxtools) (3.10.3)\n",
      "Requirement already satisfied: scipy>=1.1.0 in /opt/conda/lib/python3.12/site-packages (from ase>=3.19.0->pynxtools) (1.16.0)\n",
      "Requirement already satisfied: python-dateutil>=2.8.2 in /opt/conda/lib/python3.12/site-packages (from pandas>=1.3.2->pynxtools) (2.9.0.post0)\n",
      "Requirement already satisfied: pytz>=2020.1 in /opt/conda/lib/python3.12/site-packages (from pandas>=1.3.2->pynxtools) (2025.2)\n",
      "Requirement already satisfied: tzdata>=2022.7 in /opt/conda/lib/python3.12/site-packages (from pandas>=1.3.2->pynxtools) (2025.2)\n",
      "Requirement already satisfied: packaging>=24.1 in /opt/conda/lib/python3.12/site-packages (from xarray>=0.20.2->pynxtools) (25.0)\n",
      "Requirement already satisfied: zipp>=3.20 in /opt/conda/lib/python3.12/site-packages (from importlib-metadata->pynxtools) (3.23.0)\n",
      "Requirement already satisfied: flexcache>=0.3 in /opt/conda/lib/python3.12/site-packages (from pint->pynxtools) (0.3)\n",
      "Requirement already satisfied: flexparser>=0.4 in /opt/conda/lib/python3.12/site-packages (from pint->pynxtools) (0.4)\n",
      "Requirement already satisfied: platformdirs>=2.1.0 in /opt/conda/lib/python3.12/site-packages (from pint->pynxtools) (4.3.8)\n",
      "Requirement already satisfied: typing-extensions>=4.0.0 in /opt/conda/lib/python3.12/site-packages (from pint->pynxtools) (4.14.1)\n",
      "Requirement already satisfied: contourpy>=1.0.1 in /opt/conda/lib/python3.12/site-packages (from matplotlib>=3.1.0->ase>=3.19.0->pynxtools) (1.3.2)\n",
      "Requirement already satisfied: cycler>=0.10 in /opt/conda/lib/python3.12/site-packages (from matplotlib>=3.1.0->ase>=3.19.0->pynxtools) (0.12.1)\n",
      "Requirement already satisfied: fonttools>=4.22.0 in /opt/conda/lib/python3.12/site-packages (from matplotlib>=3.1.0->ase>=3.19.0->pynxtools) (4.59.0)\n",
      "Requirement already satisfied: kiwisolver>=1.3.1 in /opt/conda/lib/python3.12/site-packages (from matplotlib>=3.1.0->ase>=3.19.0->pynxtools) (1.4.8)\n",
      "Requirement already satisfied: pillow>=8 in /opt/conda/lib/python3.12/site-packages (from matplotlib>=3.1.0->ase>=3.19.0->pynxtools) (10.0.1)\n",
      "Requirement already satisfied: pyparsing>=2.3.1 in /opt/conda/lib/python3.12/site-packages (from matplotlib>=3.1.0->ase>=3.19.0->pynxtools) (3.2.3)\n",
      "Requirement already satisfied: six>=1.5 in /opt/conda/lib/python3.12/site-packages (from python-dateutil>=2.8.2->pandas>=1.3.2->pynxtools) (1.17.0)\n",
      "Note: you may need to restart the kernel to use updated packages.\n"
     ]
    }
   ],
   "source": [
    "%pip install pynxtools"
   ]
  },
  {
   "cell_type": "code",
   "execution_count": 15,
   "id": "bcb9e4f3-f407-4a4e-bdd9-485f7de55c5c",
   "metadata": {},
   "outputs": [
    {
     "name": "stdout",
     "output_type": "stream",
     "text": [
      "Collecting jupyterlab_h5web\n",
      "  Downloading jupyterlab_h5web-12.4.0-py3-none-any.whl.metadata (5.6 kB)\n",
      "Requirement already satisfied: jupyter_server<3,>=1.6 in /opt/conda/lib/python3.12/site-packages (from jupyterlab_h5web) (2.15.0)\n",
      "Requirement already satisfied: h5grove==2.3.0 in /opt/conda/lib/python3.12/site-packages (from jupyterlab_h5web) (2.3.0)\n",
      "Requirement already satisfied: h5py>=3.5 in /opt/conda/lib/python3.12/site-packages (from jupyterlab_h5web) (3.14.0)\n",
      "Requirement already satisfied: numpy in /opt/conda/lib/python3.12/site-packages (from h5grove==2.3.0->jupyterlab_h5web) (1.26.4)\n",
      "Requirement already satisfied: orjson in /opt/conda/lib/python3.12/site-packages (from h5grove==2.3.0->jupyterlab_h5web) (3.11.0)\n",
      "Requirement already satisfied: tifffile in /opt/conda/lib/python3.12/site-packages (from h5grove==2.3.0->jupyterlab_h5web) (2025.6.11)\n",
      "Requirement already satisfied: typing-extensions in /opt/conda/lib/python3.12/site-packages (from h5grove==2.3.0->jupyterlab_h5web) (4.14.1)\n",
      "Requirement already satisfied: anyio>=3.1.0 in /opt/conda/lib/python3.12/site-packages (from jupyter_server<3,>=1.6->jupyterlab_h5web) (4.9.0)\n",
      "Requirement already satisfied: argon2-cffi>=21.1 in /opt/conda/lib/python3.12/site-packages (from jupyter_server<3,>=1.6->jupyterlab_h5web) (23.1.0)\n",
      "Requirement already satisfied: jinja2>=3.0.3 in /opt/conda/lib/python3.12/site-packages (from jupyter_server<3,>=1.6->jupyterlab_h5web) (3.1.6)\n",
      "Requirement already satisfied: jupyter-client>=7.4.4 in /opt/conda/lib/python3.12/site-packages (from jupyter_server<3,>=1.6->jupyterlab_h5web) (8.6.3)\n",
      "Requirement already satisfied: jupyter-core!=5.0.*,>=4.12 in /opt/conda/lib/python3.12/site-packages (from jupyter_server<3,>=1.6->jupyterlab_h5web) (5.7.2)\n",
      "Requirement already satisfied: jupyter-events>=0.11.0 in /opt/conda/lib/python3.12/site-packages (from jupyter_server<3,>=1.6->jupyterlab_h5web) (0.11.0)\n",
      "Requirement already satisfied: jupyter-server-terminals>=0.4.4 in /opt/conda/lib/python3.12/site-packages (from jupyter_server<3,>=1.6->jupyterlab_h5web) (0.5.3)\n",
      "Requirement already satisfied: nbconvert>=6.4.4 in /opt/conda/lib/python3.12/site-packages (from jupyter_server<3,>=1.6->jupyterlab_h5web) (7.16.5)\n",
      "Requirement already satisfied: nbformat>=5.3.0 in /opt/conda/lib/python3.12/site-packages (from jupyter_server<3,>=1.6->jupyterlab_h5web) (5.10.4)\n",
      "Requirement already satisfied: overrides>=5.0 in /opt/conda/lib/python3.12/site-packages (from jupyter_server<3,>=1.6->jupyterlab_h5web) (7.7.0)\n",
      "Requirement already satisfied: packaging>=22.0 in /opt/conda/lib/python3.12/site-packages (from jupyter_server<3,>=1.6->jupyterlab_h5web) (25.0)\n",
      "Requirement already satisfied: prometheus-client>=0.9 in /opt/conda/lib/python3.12/site-packages (from jupyter_server<3,>=1.6->jupyterlab_h5web) (0.22.1)\n",
      "Requirement already satisfied: pyzmq>=24 in /opt/conda/lib/python3.12/site-packages (from jupyter_server<3,>=1.6->jupyterlab_h5web) (26.2.0)\n",
      "Requirement already satisfied: send2trash>=1.8.2 in /opt/conda/lib/python3.12/site-packages (from jupyter_server<3,>=1.6->jupyterlab_h5web) (1.8.3)\n",
      "Requirement already satisfied: terminado>=0.8.3 in /opt/conda/lib/python3.12/site-packages (from jupyter_server<3,>=1.6->jupyterlab_h5web) (0.18.1)\n",
      "Requirement already satisfied: tornado>=6.2.0 in /opt/conda/lib/python3.12/site-packages (from jupyter_server<3,>=1.6->jupyterlab_h5web) (6.5.1)\n",
      "Requirement already satisfied: traitlets>=5.6.0 in /opt/conda/lib/python3.12/site-packages (from jupyter_server<3,>=1.6->jupyterlab_h5web) (5.14.3)\n",
      "Requirement already satisfied: websocket-client>=1.7 in /opt/conda/lib/python3.12/site-packages (from jupyter_server<3,>=1.6->jupyterlab_h5web) (1.8.0)\n",
      "Requirement already satisfied: idna>=2.8 in /opt/conda/lib/python3.12/site-packages (from anyio>=3.1.0->jupyter_server<3,>=1.6->jupyterlab_h5web) (3.10)\n",
      "Requirement already satisfied: sniffio>=1.1 in /opt/conda/lib/python3.12/site-packages (from anyio>=3.1.0->jupyter_server<3,>=1.6->jupyterlab_h5web) (1.3.1)\n",
      "Requirement already satisfied: argon2-cffi-bindings in /opt/conda/lib/python3.12/site-packages (from argon2-cffi>=21.1->jupyter_server<3,>=1.6->jupyterlab_h5web) (21.2.0)\n",
      "Requirement already satisfied: MarkupSafe>=2.0 in /opt/conda/lib/python3.12/site-packages (from jinja2>=3.0.3->jupyter_server<3,>=1.6->jupyterlab_h5web) (3.0.2)\n",
      "Requirement already satisfied: python-dateutil>=2.8.2 in /opt/conda/lib/python3.12/site-packages (from jupyter-client>=7.4.4->jupyter_server<3,>=1.6->jupyterlab_h5web) (2.9.0.post0)\n",
      "Requirement already satisfied: platformdirs>=2.5 in /opt/conda/lib/python3.12/site-packages (from jupyter-core!=5.0.*,>=4.12->jupyter_server<3,>=1.6->jupyterlab_h5web) (4.3.8)\n",
      "Requirement already satisfied: jsonschema>=4.18.0 in /opt/conda/lib/python3.12/site-packages (from jsonschema[format-nongpl]>=4.18.0->jupyter-events>=0.11.0->jupyter_server<3,>=1.6->jupyterlab_h5web) (4.24.0)\n",
      "Requirement already satisfied: python-json-logger>=2.0.4 in /opt/conda/lib/python3.12/site-packages (from jupyter-events>=0.11.0->jupyter_server<3,>=1.6->jupyterlab_h5web) (3.3.0)\n",
      "Requirement already satisfied: pyyaml>=5.3 in /opt/conda/lib/python3.12/site-packages (from jupyter-events>=0.11.0->jupyter_server<3,>=1.6->jupyterlab_h5web) (6.0.2)\n",
      "Requirement already satisfied: referencing in /opt/conda/lib/python3.12/site-packages (from jupyter-events>=0.11.0->jupyter_server<3,>=1.6->jupyterlab_h5web) (0.36.2)\n",
      "Requirement already satisfied: rfc3339-validator in /opt/conda/lib/python3.12/site-packages (from jupyter-events>=0.11.0->jupyter_server<3,>=1.6->jupyterlab_h5web) (0.1.4)\n",
      "Requirement already satisfied: rfc3986-validator>=0.1.1 in /opt/conda/lib/python3.12/site-packages (from jupyter-events>=0.11.0->jupyter_server<3,>=1.6->jupyterlab_h5web) (0.1.1)\n",
      "Requirement already satisfied: beautifulsoup4 in /opt/conda/lib/python3.12/site-packages (from nbconvert>=6.4.4->jupyter_server<3,>=1.6->jupyterlab_h5web) (4.12.3)\n",
      "Requirement already satisfied: bleach!=5.0.0 in /opt/conda/lib/python3.12/site-packages (from bleach[css]!=5.0.0->nbconvert>=6.4.4->jupyter_server<3,>=1.6->jupyterlab_h5web) (6.2.0)\n",
      "Requirement already satisfied: defusedxml in /opt/conda/lib/python3.12/site-packages (from nbconvert>=6.4.4->jupyter_server<3,>=1.6->jupyterlab_h5web) (0.7.1)\n",
      "Requirement already satisfied: jupyterlab-pygments in /opt/conda/lib/python3.12/site-packages (from nbconvert>=6.4.4->jupyter_server<3,>=1.6->jupyterlab_h5web) (0.3.0)\n",
      "Requirement already satisfied: mistune<4,>=2.0.3 in /opt/conda/lib/python3.12/site-packages (from nbconvert>=6.4.4->jupyter_server<3,>=1.6->jupyterlab_h5web) (3.1.0)\n",
      "Requirement already satisfied: nbclient>=0.5.0 in /opt/conda/lib/python3.12/site-packages (from nbconvert>=6.4.4->jupyter_server<3,>=1.6->jupyterlab_h5web) (0.10.2)\n",
      "Requirement already satisfied: pandocfilters>=1.4.1 in /opt/conda/lib/python3.12/site-packages (from nbconvert>=6.4.4->jupyter_server<3,>=1.6->jupyterlab_h5web) (1.5.0)\n",
      "Requirement already satisfied: pygments>=2.4.1 in /opt/conda/lib/python3.12/site-packages (from nbconvert>=6.4.4->jupyter_server<3,>=1.6->jupyterlab_h5web) (2.19.1)\n",
      "Requirement already satisfied: fastjsonschema>=2.15 in /opt/conda/lib/python3.12/site-packages (from nbformat>=5.3.0->jupyter_server<3,>=1.6->jupyterlab_h5web) (2.21.1)\n",
      "Requirement already satisfied: ptyprocess in /opt/conda/lib/python3.12/site-packages (from terminado>=0.8.3->jupyter_server<3,>=1.6->jupyterlab_h5web) (0.7.0)\n",
      "Requirement already satisfied: webencodings in /opt/conda/lib/python3.12/site-packages (from bleach!=5.0.0->bleach[css]!=5.0.0->nbconvert>=6.4.4->jupyter_server<3,>=1.6->jupyterlab_h5web) (0.5.1)\n",
      "Requirement already satisfied: tinycss2<1.5,>=1.1.0 in /opt/conda/lib/python3.12/site-packages (from bleach[css]!=5.0.0->nbconvert>=6.4.4->jupyter_server<3,>=1.6->jupyterlab_h5web) (1.4.0)\n",
      "Requirement already satisfied: attrs>=22.2.0 in /opt/conda/lib/python3.12/site-packages (from jsonschema>=4.18.0->jsonschema[format-nongpl]>=4.18.0->jupyter-events>=0.11.0->jupyter_server<3,>=1.6->jupyterlab_h5web) (25.3.0)\n",
      "Requirement already satisfied: jsonschema-specifications>=2023.03.6 in /opt/conda/lib/python3.12/site-packages (from jsonschema>=4.18.0->jsonschema[format-nongpl]>=4.18.0->jupyter-events>=0.11.0->jupyter_server<3,>=1.6->jupyterlab_h5web) (2025.4.1)\n",
      "Requirement already satisfied: rpds-py>=0.7.1 in /opt/conda/lib/python3.12/site-packages (from jsonschema>=4.18.0->jsonschema[format-nongpl]>=4.18.0->jupyter-events>=0.11.0->jupyter_server<3,>=1.6->jupyterlab_h5web) (0.26.0)\n",
      "Requirement already satisfied: fqdn in /opt/conda/lib/python3.12/site-packages (from jsonschema[format-nongpl]>=4.18.0->jupyter-events>=0.11.0->jupyter_server<3,>=1.6->jupyterlab_h5web) (1.5.1)\n",
      "Requirement already satisfied: isoduration in /opt/conda/lib/python3.12/site-packages (from jsonschema[format-nongpl]>=4.18.0->jupyter-events>=0.11.0->jupyter_server<3,>=1.6->jupyterlab_h5web) (20.11.0)\n",
      "Requirement already satisfied: jsonpointer>1.13 in /opt/conda/lib/python3.12/site-packages (from jsonschema[format-nongpl]>=4.18.0->jupyter-events>=0.11.0->jupyter_server<3,>=1.6->jupyterlab_h5web) (3.0.0)\n",
      "Requirement already satisfied: uri-template in /opt/conda/lib/python3.12/site-packages (from jsonschema[format-nongpl]>=4.18.0->jupyter-events>=0.11.0->jupyter_server<3,>=1.6->jupyterlab_h5web) (1.3.0)\n",
      "Requirement already satisfied: webcolors>=24.6.0 in /opt/conda/lib/python3.12/site-packages (from jsonschema[format-nongpl]>=4.18.0->jupyter-events>=0.11.0->jupyter_server<3,>=1.6->jupyterlab_h5web) (24.11.1)\n",
      "Requirement already satisfied: six>=1.5 in /opt/conda/lib/python3.12/site-packages (from python-dateutil>=2.8.2->jupyter-client>=7.4.4->jupyter_server<3,>=1.6->jupyterlab_h5web) (1.17.0)\n",
      "Requirement already satisfied: cffi>=1.0.1 in /opt/conda/lib/python3.12/site-packages (from argon2-cffi-bindings->argon2-cffi>=21.1->jupyter_server<3,>=1.6->jupyterlab_h5web) (1.17.1)\n",
      "Requirement already satisfied: soupsieve>1.2 in /opt/conda/lib/python3.12/site-packages (from beautifulsoup4->nbconvert>=6.4.4->jupyter_server<3,>=1.6->jupyterlab_h5web) (2.7)\n",
      "Requirement already satisfied: pycparser in /opt/conda/lib/python3.12/site-packages (from cffi>=1.0.1->argon2-cffi-bindings->argon2-cffi>=21.1->jupyter_server<3,>=1.6->jupyterlab_h5web) (2.22)\n",
      "Requirement already satisfied: arrow>=0.15.0 in /opt/conda/lib/python3.12/site-packages (from isoduration->jsonschema[format-nongpl]>=4.18.0->jupyter-events>=0.11.0->jupyter_server<3,>=1.6->jupyterlab_h5web) (1.3.0)\n",
      "Requirement already satisfied: types-python-dateutil>=2.8.10 in /opt/conda/lib/python3.12/site-packages (from arrow>=0.15.0->isoduration->jsonschema[format-nongpl]>=4.18.0->jupyter-events>=0.11.0->jupyter_server<3,>=1.6->jupyterlab_h5web) (2.9.0.20241206)\n",
      "Downloading jupyterlab_h5web-12.4.0-py3-none-any.whl (810 kB)\n",
      "\u001b[2K   \u001b[90m━━━━━━━━━━━━━━━━━━━━━━━━━━━━━━━━━━━━━━━━\u001b[0m \u001b[32m810.6/810.6 kB\u001b[0m \u001b[31m15.6 MB/s\u001b[0m eta \u001b[36m0:00:00\u001b[0m\n",
      "Installing collected packages: jupyterlab_h5web\n",
      "Successfully installed jupyterlab_h5web-12.4.0\n",
      "Note: you may need to restart the kernel to use updated packages.\n"
     ]
    }
   ],
   "source": [
    "%pip install jupyterlab_h5web"
   ]
  },
  {
   "cell_type": "code",
   "execution_count": 13,
   "id": "91d48abd-0d05-4179-9d46-b1d1a6df3b73",
   "metadata": {},
   "outputs": [
    {
     "name": "stdout",
     "output_type": "stream",
     "text": [
      "Requirement already satisfied: ipywidgets in /opt/conda/lib/python3.12/site-packages (8.1.5)\n",
      "Requirement already satisfied: jupyterlab_widgets in /opt/conda/lib/python3.12/site-packages (3.0.13)\n",
      "Requirement already satisfied: comm>=0.1.3 in /opt/conda/lib/python3.12/site-packages (from ipywidgets) (0.2.2)\n",
      "Requirement already satisfied: ipython>=6.1.0 in /opt/conda/lib/python3.12/site-packages (from ipywidgets) (8.31.0)\n",
      "Requirement already satisfied: traitlets>=4.3.1 in /opt/conda/lib/python3.12/site-packages (from ipywidgets) (5.14.3)\n",
      "Requirement already satisfied: widgetsnbextension~=4.0.12 in /opt/conda/lib/python3.12/site-packages (from ipywidgets) (4.0.13)\n",
      "Requirement already satisfied: decorator in /opt/conda/lib/python3.12/site-packages (from ipython>=6.1.0->ipywidgets) (5.1.1)\n",
      "Requirement already satisfied: jedi>=0.16 in /opt/conda/lib/python3.12/site-packages (from ipython>=6.1.0->ipywidgets) (0.19.2)\n",
      "Requirement already satisfied: matplotlib-inline in /opt/conda/lib/python3.12/site-packages (from ipython>=6.1.0->ipywidgets) (0.1.7)\n",
      "Requirement already satisfied: pexpect>4.3 in /opt/conda/lib/python3.12/site-packages (from ipython>=6.1.0->ipywidgets) (4.9.0)\n",
      "Requirement already satisfied: prompt_toolkit<3.1.0,>=3.0.41 in /opt/conda/lib/python3.12/site-packages (from ipython>=6.1.0->ipywidgets) (3.0.51)\n",
      "Requirement already satisfied: pygments>=2.4.0 in /opt/conda/lib/python3.12/site-packages (from ipython>=6.1.0->ipywidgets) (2.19.1)\n",
      "Requirement already satisfied: stack_data in /opt/conda/lib/python3.12/site-packages (from ipython>=6.1.0->ipywidgets) (0.6.3)\n",
      "Requirement already satisfied: parso<0.9.0,>=0.8.4 in /opt/conda/lib/python3.12/site-packages (from jedi>=0.16->ipython>=6.1.0->ipywidgets) (0.8.4)\n",
      "Requirement already satisfied: ptyprocess>=0.5 in /opt/conda/lib/python3.12/site-packages (from pexpect>4.3->ipython>=6.1.0->ipywidgets) (0.7.0)\n",
      "Requirement already satisfied: wcwidth in /opt/conda/lib/python3.12/site-packages (from prompt_toolkit<3.1.0,>=3.0.41->ipython>=6.1.0->ipywidgets) (0.2.13)\n",
      "Requirement already satisfied: executing>=1.2.0 in /opt/conda/lib/python3.12/site-packages (from stack_data->ipython>=6.1.0->ipywidgets) (2.1.0)\n",
      "Requirement already satisfied: asttokens>=2.1.0 in /opt/conda/lib/python3.12/site-packages (from stack_data->ipython>=6.1.0->ipywidgets) (3.0.0)\n",
      "Requirement already satisfied: pure_eval in /opt/conda/lib/python3.12/site-packages (from stack_data->ipython>=6.1.0->ipywidgets) (0.2.3)\n",
      "Note: you may need to restart the kernel to use updated packages.\n"
     ]
    }
   ],
   "source": [
    "%pip install ipywidgets jupyterlab_widgets\n"
   ]
  },
  {
   "cell_type": "code",
   "execution_count": 6,
   "id": "b07003c2-4e83-45ec-a1c5-1766517bf8fc",
   "metadata": {},
   "outputs": [
    {
     "data": {
      "application/vnd.jupyter.widget-view+json": {
       "model_id": "bcffe2e5ea44499f83cab032cdd282f7",
       "version_major": 2,
       "version_minor": 0
      },
      "text/plain": [
       "IntSlider(value=0)"
      ]
     },
     "execution_count": 6,
     "metadata": {},
     "output_type": "execute_result"
    }
   ],
   "source": [
    "import ipywidgets as widgets\n",
    "widgets.IntSlider()"
   ]
  },
  {
   "cell_type": "code",
   "execution_count": 3,
   "id": "cece2330-cf4d-4320-beac-59118540ca9e",
   "metadata": {},
   "outputs": [
    {
     "name": "stdout",
     "output_type": "stream",
     "text": [
      "Requirement already satisfied: jupyterlab_h5web[notebook] in /opt/conda/lib/python3.12/site-packages (12.4.0)\n",
      "\u001b[33mWARNING: jupyterlab-h5web 12.4.0 does not provide the extra 'notebook'\u001b[0m\u001b[33m\n",
      "\u001b[0mRequirement already satisfied: jupyter_server<3,>=1.6 in /opt/conda/lib/python3.12/site-packages (from jupyterlab_h5web[notebook]) (2.15.0)\n",
      "Requirement already satisfied: h5grove==2.3.0 in /opt/conda/lib/python3.12/site-packages (from jupyterlab_h5web[notebook]) (2.3.0)\n",
      "Requirement already satisfied: h5py>=3.5 in /opt/conda/lib/python3.12/site-packages (from jupyterlab_h5web[notebook]) (3.14.0)\n",
      "Requirement already satisfied: numpy in /opt/conda/lib/python3.12/site-packages (from h5grove==2.3.0->jupyterlab_h5web[notebook]) (1.26.4)\n",
      "Requirement already satisfied: orjson in /opt/conda/lib/python3.12/site-packages (from h5grove==2.3.0->jupyterlab_h5web[notebook]) (3.11.0)\n",
      "Requirement already satisfied: tifffile in /opt/conda/lib/python3.12/site-packages (from h5grove==2.3.0->jupyterlab_h5web[notebook]) (2025.6.11)\n",
      "Requirement already satisfied: typing-extensions in /opt/conda/lib/python3.12/site-packages (from h5grove==2.3.0->jupyterlab_h5web[notebook]) (4.14.1)\n",
      "Requirement already satisfied: anyio>=3.1.0 in /opt/conda/lib/python3.12/site-packages (from jupyter_server<3,>=1.6->jupyterlab_h5web[notebook]) (4.9.0)\n",
      "Requirement already satisfied: argon2-cffi>=21.1 in /opt/conda/lib/python3.12/site-packages (from jupyter_server<3,>=1.6->jupyterlab_h5web[notebook]) (23.1.0)\n",
      "Requirement already satisfied: jinja2>=3.0.3 in /opt/conda/lib/python3.12/site-packages (from jupyter_server<3,>=1.6->jupyterlab_h5web[notebook]) (3.1.6)\n",
      "Requirement already satisfied: jupyter-client>=7.4.4 in /opt/conda/lib/python3.12/site-packages (from jupyter_server<3,>=1.6->jupyterlab_h5web[notebook]) (8.6.3)\n",
      "Requirement already satisfied: jupyter-core!=5.0.*,>=4.12 in /opt/conda/lib/python3.12/site-packages (from jupyter_server<3,>=1.6->jupyterlab_h5web[notebook]) (5.7.2)\n",
      "Requirement already satisfied: jupyter-events>=0.11.0 in /opt/conda/lib/python3.12/site-packages (from jupyter_server<3,>=1.6->jupyterlab_h5web[notebook]) (0.11.0)\n",
      "Requirement already satisfied: jupyter-server-terminals>=0.4.4 in /opt/conda/lib/python3.12/site-packages (from jupyter_server<3,>=1.6->jupyterlab_h5web[notebook]) (0.5.3)\n",
      "Requirement already satisfied: nbconvert>=6.4.4 in /opt/conda/lib/python3.12/site-packages (from jupyter_server<3,>=1.6->jupyterlab_h5web[notebook]) (7.16.5)\n",
      "Requirement already satisfied: nbformat>=5.3.0 in /opt/conda/lib/python3.12/site-packages (from jupyter_server<3,>=1.6->jupyterlab_h5web[notebook]) (5.10.4)\n",
      "Requirement already satisfied: overrides>=5.0 in /opt/conda/lib/python3.12/site-packages (from jupyter_server<3,>=1.6->jupyterlab_h5web[notebook]) (7.7.0)\n",
      "Requirement already satisfied: packaging>=22.0 in /opt/conda/lib/python3.12/site-packages (from jupyter_server<3,>=1.6->jupyterlab_h5web[notebook]) (25.0)\n",
      "Requirement already satisfied: prometheus-client>=0.9 in /opt/conda/lib/python3.12/site-packages (from jupyter_server<3,>=1.6->jupyterlab_h5web[notebook]) (0.22.1)\n",
      "Requirement already satisfied: pyzmq>=24 in /opt/conda/lib/python3.12/site-packages (from jupyter_server<3,>=1.6->jupyterlab_h5web[notebook]) (26.2.0)\n",
      "Requirement already satisfied: send2trash>=1.8.2 in /opt/conda/lib/python3.12/site-packages (from jupyter_server<3,>=1.6->jupyterlab_h5web[notebook]) (1.8.3)\n",
      "Requirement already satisfied: terminado>=0.8.3 in /opt/conda/lib/python3.12/site-packages (from jupyter_server<3,>=1.6->jupyterlab_h5web[notebook]) (0.18.1)\n",
      "Requirement already satisfied: tornado>=6.2.0 in /opt/conda/lib/python3.12/site-packages (from jupyter_server<3,>=1.6->jupyterlab_h5web[notebook]) (6.5.1)\n",
      "Requirement already satisfied: traitlets>=5.6.0 in /opt/conda/lib/python3.12/site-packages (from jupyter_server<3,>=1.6->jupyterlab_h5web[notebook]) (5.14.3)\n",
      "Requirement already satisfied: websocket-client>=1.7 in /opt/conda/lib/python3.12/site-packages (from jupyter_server<3,>=1.6->jupyterlab_h5web[notebook]) (1.8.0)\n",
      "Requirement already satisfied: idna>=2.8 in /opt/conda/lib/python3.12/site-packages (from anyio>=3.1.0->jupyter_server<3,>=1.6->jupyterlab_h5web[notebook]) (3.10)\n",
      "Requirement already satisfied: sniffio>=1.1 in /opt/conda/lib/python3.12/site-packages (from anyio>=3.1.0->jupyter_server<3,>=1.6->jupyterlab_h5web[notebook]) (1.3.1)\n",
      "Requirement already satisfied: argon2-cffi-bindings in /opt/conda/lib/python3.12/site-packages (from argon2-cffi>=21.1->jupyter_server<3,>=1.6->jupyterlab_h5web[notebook]) (21.2.0)\n",
      "Requirement already satisfied: MarkupSafe>=2.0 in /opt/conda/lib/python3.12/site-packages (from jinja2>=3.0.3->jupyter_server<3,>=1.6->jupyterlab_h5web[notebook]) (3.0.2)\n",
      "Requirement already satisfied: python-dateutil>=2.8.2 in /opt/conda/lib/python3.12/site-packages (from jupyter-client>=7.4.4->jupyter_server<3,>=1.6->jupyterlab_h5web[notebook]) (2.9.0.post0)\n",
      "Requirement already satisfied: platformdirs>=2.5 in /opt/conda/lib/python3.12/site-packages (from jupyter-core!=5.0.*,>=4.12->jupyter_server<3,>=1.6->jupyterlab_h5web[notebook]) (4.3.8)\n",
      "Requirement already satisfied: jsonschema>=4.18.0 in /opt/conda/lib/python3.12/site-packages (from jsonschema[format-nongpl]>=4.18.0->jupyter-events>=0.11.0->jupyter_server<3,>=1.6->jupyterlab_h5web[notebook]) (4.24.0)\n",
      "Requirement already satisfied: python-json-logger>=2.0.4 in /opt/conda/lib/python3.12/site-packages (from jupyter-events>=0.11.0->jupyter_server<3,>=1.6->jupyterlab_h5web[notebook]) (3.3.0)\n",
      "Requirement already satisfied: pyyaml>=5.3 in /opt/conda/lib/python3.12/site-packages (from jupyter-events>=0.11.0->jupyter_server<3,>=1.6->jupyterlab_h5web[notebook]) (6.0.2)\n",
      "Requirement already satisfied: referencing in /opt/conda/lib/python3.12/site-packages (from jupyter-events>=0.11.0->jupyter_server<3,>=1.6->jupyterlab_h5web[notebook]) (0.36.2)\n",
      "Requirement already satisfied: rfc3339-validator in /opt/conda/lib/python3.12/site-packages (from jupyter-events>=0.11.0->jupyter_server<3,>=1.6->jupyterlab_h5web[notebook]) (0.1.4)\n",
      "Requirement already satisfied: rfc3986-validator>=0.1.1 in /opt/conda/lib/python3.12/site-packages (from jupyter-events>=0.11.0->jupyter_server<3,>=1.6->jupyterlab_h5web[notebook]) (0.1.1)\n",
      "Requirement already satisfied: beautifulsoup4 in /opt/conda/lib/python3.12/site-packages (from nbconvert>=6.4.4->jupyter_server<3,>=1.6->jupyterlab_h5web[notebook]) (4.12.3)\n",
      "Requirement already satisfied: bleach!=5.0.0 in /opt/conda/lib/python3.12/site-packages (from bleach[css]!=5.0.0->nbconvert>=6.4.4->jupyter_server<3,>=1.6->jupyterlab_h5web[notebook]) (6.2.0)\n",
      "Requirement already satisfied: defusedxml in /opt/conda/lib/python3.12/site-packages (from nbconvert>=6.4.4->jupyter_server<3,>=1.6->jupyterlab_h5web[notebook]) (0.7.1)\n",
      "Requirement already satisfied: jupyterlab-pygments in /opt/conda/lib/python3.12/site-packages (from nbconvert>=6.4.4->jupyter_server<3,>=1.6->jupyterlab_h5web[notebook]) (0.3.0)\n",
      "Requirement already satisfied: mistune<4,>=2.0.3 in /opt/conda/lib/python3.12/site-packages (from nbconvert>=6.4.4->jupyter_server<3,>=1.6->jupyterlab_h5web[notebook]) (3.1.0)\n",
      "Requirement already satisfied: nbclient>=0.5.0 in /opt/conda/lib/python3.12/site-packages (from nbconvert>=6.4.4->jupyter_server<3,>=1.6->jupyterlab_h5web[notebook]) (0.10.2)\n",
      "Requirement already satisfied: pandocfilters>=1.4.1 in /opt/conda/lib/python3.12/site-packages (from nbconvert>=6.4.4->jupyter_server<3,>=1.6->jupyterlab_h5web[notebook]) (1.5.0)\n",
      "Requirement already satisfied: pygments>=2.4.1 in /opt/conda/lib/python3.12/site-packages (from nbconvert>=6.4.4->jupyter_server<3,>=1.6->jupyterlab_h5web[notebook]) (2.19.1)\n",
      "Requirement already satisfied: fastjsonschema>=2.15 in /opt/conda/lib/python3.12/site-packages (from nbformat>=5.3.0->jupyter_server<3,>=1.6->jupyterlab_h5web[notebook]) (2.21.1)\n",
      "Requirement already satisfied: ptyprocess in /opt/conda/lib/python3.12/site-packages (from terminado>=0.8.3->jupyter_server<3,>=1.6->jupyterlab_h5web[notebook]) (0.7.0)\n",
      "Requirement already satisfied: webencodings in /opt/conda/lib/python3.12/site-packages (from bleach!=5.0.0->bleach[css]!=5.0.0->nbconvert>=6.4.4->jupyter_server<3,>=1.6->jupyterlab_h5web[notebook]) (0.5.1)\n",
      "Requirement already satisfied: tinycss2<1.5,>=1.1.0 in /opt/conda/lib/python3.12/site-packages (from bleach[css]!=5.0.0->nbconvert>=6.4.4->jupyter_server<3,>=1.6->jupyterlab_h5web[notebook]) (1.4.0)\n",
      "Requirement already satisfied: attrs>=22.2.0 in /opt/conda/lib/python3.12/site-packages (from jsonschema>=4.18.0->jsonschema[format-nongpl]>=4.18.0->jupyter-events>=0.11.0->jupyter_server<3,>=1.6->jupyterlab_h5web[notebook]) (25.3.0)\n",
      "Requirement already satisfied: jsonschema-specifications>=2023.03.6 in /opt/conda/lib/python3.12/site-packages (from jsonschema>=4.18.0->jsonschema[format-nongpl]>=4.18.0->jupyter-events>=0.11.0->jupyter_server<3,>=1.6->jupyterlab_h5web[notebook]) (2025.4.1)\n",
      "Requirement already satisfied: rpds-py>=0.7.1 in /opt/conda/lib/python3.12/site-packages (from jsonschema>=4.18.0->jsonschema[format-nongpl]>=4.18.0->jupyter-events>=0.11.0->jupyter_server<3,>=1.6->jupyterlab_h5web[notebook]) (0.26.0)\n",
      "Requirement already satisfied: fqdn in /opt/conda/lib/python3.12/site-packages (from jsonschema[format-nongpl]>=4.18.0->jupyter-events>=0.11.0->jupyter_server<3,>=1.6->jupyterlab_h5web[notebook]) (1.5.1)\n",
      "Requirement already satisfied: isoduration in /opt/conda/lib/python3.12/site-packages (from jsonschema[format-nongpl]>=4.18.0->jupyter-events>=0.11.0->jupyter_server<3,>=1.6->jupyterlab_h5web[notebook]) (20.11.0)\n",
      "Requirement already satisfied: jsonpointer>1.13 in /opt/conda/lib/python3.12/site-packages (from jsonschema[format-nongpl]>=4.18.0->jupyter-events>=0.11.0->jupyter_server<3,>=1.6->jupyterlab_h5web[notebook]) (3.0.0)\n",
      "Requirement already satisfied: uri-template in /opt/conda/lib/python3.12/site-packages (from jsonschema[format-nongpl]>=4.18.0->jupyter-events>=0.11.0->jupyter_server<3,>=1.6->jupyterlab_h5web[notebook]) (1.3.0)\n",
      "Requirement already satisfied: webcolors>=24.6.0 in /opt/conda/lib/python3.12/site-packages (from jsonschema[format-nongpl]>=4.18.0->jupyter-events>=0.11.0->jupyter_server<3,>=1.6->jupyterlab_h5web[notebook]) (24.11.1)\n",
      "Requirement already satisfied: six>=1.5 in /opt/conda/lib/python3.12/site-packages (from python-dateutil>=2.8.2->jupyter-client>=7.4.4->jupyter_server<3,>=1.6->jupyterlab_h5web[notebook]) (1.17.0)\n",
      "Requirement already satisfied: cffi>=1.0.1 in /opt/conda/lib/python3.12/site-packages (from argon2-cffi-bindings->argon2-cffi>=21.1->jupyter_server<3,>=1.6->jupyterlab_h5web[notebook]) (1.17.1)\n",
      "Requirement already satisfied: soupsieve>1.2 in /opt/conda/lib/python3.12/site-packages (from beautifulsoup4->nbconvert>=6.4.4->jupyter_server<3,>=1.6->jupyterlab_h5web[notebook]) (2.7)\n",
      "Requirement already satisfied: pycparser in /opt/conda/lib/python3.12/site-packages (from cffi>=1.0.1->argon2-cffi-bindings->argon2-cffi>=21.1->jupyter_server<3,>=1.6->jupyterlab_h5web[notebook]) (2.22)\n",
      "Requirement already satisfied: arrow>=0.15.0 in /opt/conda/lib/python3.12/site-packages (from isoduration->jsonschema[format-nongpl]>=4.18.0->jupyter-events>=0.11.0->jupyter_server<3,>=1.6->jupyterlab_h5web[notebook]) (1.3.0)\n",
      "Requirement already satisfied: types-python-dateutil>=2.8.10 in /opt/conda/lib/python3.12/site-packages (from arrow>=0.15.0->isoduration->jsonschema[format-nongpl]>=4.18.0->jupyter-events>=0.11.0->jupyter_server<3,>=1.6->jupyterlab_h5web[notebook]) (2.9.0.20241206)\n",
      "Note: you may need to restart the kernel to use updated packages.\n"
     ]
    }
   ],
   "source": [
    "pip install jupyterlab_h5web[notebook]"
   ]
  },
  {
   "cell_type": "code",
   "execution_count": null,
   "id": "b091bdea-9cc4-4086-baba-298ce53f8a60",
   "metadata": {},
   "outputs": [],
   "source": []
  },
  {
   "cell_type": "code",
   "execution_count": null,
   "id": "24fe41db-720a-4b09-b062-b05557433e23",
   "metadata": {},
   "outputs": [],
   "source": []
  },
  {
   "cell_type": "code",
   "execution_count": null,
   "id": "468c5d1f-8c7d-4c81-9c10-0a967cec59f9",
   "metadata": {},
   "outputs": [],
   "source": []
  },
  {
   "cell_type": "code",
   "execution_count": null,
   "id": "feb6052d-f845-4e64-b3bd-10300c2bcbed",
   "metadata": {},
   "outputs": [],
   "source": [
    "import os\n",
    "import h5py\n",
    "from silx.io.convert import write_to_h5\n",
    "\n",
    "# Path to your .mca SPEC files\n",
    "spec_dir = \"./mca/\"\n",
    "\n",
    "\n",
    "# Output HDF5 file\n",
    "output_h5_file = \"combined_output.h5\"\n",
    "\n",
    "# Get all matching SPEC files\n",
    "spec_files = sorted([\n",
    "    os.path.join(spec_dir, f)\n",
    "    for f in os.listdir(spec_dir)\n",
    "    if f.endswith(\".mca\") and f.startswith(\"2022-09-30_scans_00003\")\n",
    "])\n",
    "\n",
    "for spec_file in spec_files:\n",
    "    base = os.path.splitext(os.path.basename(spec_file))[0]\n",
    "    temp_path = f\"/tmp_{base}\"         # Temporary group for silx\n",
    "    final_path = f\"/entry_{base}\"      # Final NeXus-compliant NXentry\n",
    "\n",
    "    print(f\"Converting {spec_file} to temporary group {temp_path}\")\n",
    "\n",
    "    #  Correct use of write_to_h5 with only positional arguments\n",
    "    write_to_h5(spec_file, output_h5_file, temp_path, \"a\")\n",
    "\n",
    "    # Open HDF5 and move inner NXentry to final path\n",
    "    with h5py.File(output_h5_file, \"a\") as h5f:\n",
    "        tmp_group = h5f[temp_path]\n",
    "        entry_names = list(tmp_group.keys())\n",
    "\n",
    "        if len(entry_names) != 1:\n",
    "            print(f\"Unexpected structure inside {temp_path}. Skipping.\")\n",
    "            continue\n",
    "\n",
    "        nxentry_name = entry_names[0]\n",
    "        src_group = tmp_group[nxentry_name]\n",
    "\n",
    "        # Create destination group\n",
    "        if final_path in h5f:\n",
    "            print(f\"{final_path} already exists. Skipping.\")\n",
    "            continue\n",
    "\n",
    "        h5f.copy(src_group, final_path)\n",
    "        h5f[final_path].attrs[\"NX_class\"] = \"NXentry\"\n",
    "\n",
    "        # Clean up: remove temporary group\n",
    "        del h5f[temp_path]\n",
    "\n",
    "        print(f\"Moved {nxentry_name} → {final_path}\")\n"
   ]
  }
 ],
 "metadata": {
  "kernelspec": {
   "display_name": "Python 3 (ipykernel)",
   "language": "python",
   "name": "python3"
  },
  "language_info": {
   "codemirror_mode": {
    "name": "ipython",
    "version": 3
   },
   "file_extension": ".py",
   "mimetype": "text/x-python",
   "name": "python",
   "nbconvert_exporter": "python",
   "pygments_lexer": "ipython3",
   "version": "3.11.7"
  }
 },
 "nbformat": 4,
 "nbformat_minor": 5
}
